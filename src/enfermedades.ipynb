{
 "cells": [
  {
   "cell_type": "markdown",
   "metadata": {},
   "source": [
    "Enfermedades más comunes por municipio por estado"
   ]
  },
  {
   "cell_type": "code",
   "execution_count": 190,
   "metadata": {},
   "outputs": [
    {
     "name": "stdout",
     "output_type": "stream",
     "text": [
      "Requirement already satisfied: plotly in /opt/anaconda3/envs/dataton/lib/python3.12/site-packages (5.24.1)\n",
      "Requirement already satisfied: tenacity>=6.2.0 in /opt/anaconda3/envs/dataton/lib/python3.12/site-packages (from plotly) (9.0.0)\n",
      "Requirement already satisfied: packaging in /opt/anaconda3/envs/dataton/lib/python3.12/site-packages (from plotly) (24.1)\n",
      "Note: you may need to restart the kernel to use updated packages.\n",
      "Requirement already satisfied: nbformat in /opt/anaconda3/envs/dataton/lib/python3.12/site-packages (5.10.4)\n",
      "Requirement already satisfied: fastjsonschema>=2.15 in /opt/anaconda3/envs/dataton/lib/python3.12/site-packages (from nbformat) (2.20.0)\n",
      "Requirement already satisfied: jsonschema>=2.6 in /opt/anaconda3/envs/dataton/lib/python3.12/site-packages (from nbformat) (4.23.0)\n",
      "Requirement already satisfied: jupyter-core!=5.0.*,>=4.12 in /opt/anaconda3/envs/dataton/lib/python3.12/site-packages (from nbformat) (5.7.2)\n",
      "Requirement already satisfied: traitlets>=5.1 in /opt/anaconda3/envs/dataton/lib/python3.12/site-packages (from nbformat) (5.14.3)\n",
      "Requirement already satisfied: attrs>=22.2.0 in /opt/anaconda3/envs/dataton/lib/python3.12/site-packages (from jsonschema>=2.6->nbformat) (24.2.0)\n",
      "Requirement already satisfied: jsonschema-specifications>=2023.03.6 in /opt/anaconda3/envs/dataton/lib/python3.12/site-packages (from jsonschema>=2.6->nbformat) (2023.12.1)\n",
      "Requirement already satisfied: referencing>=0.28.4 in /opt/anaconda3/envs/dataton/lib/python3.12/site-packages (from jsonschema>=2.6->nbformat) (0.35.1)\n",
      "Requirement already satisfied: rpds-py>=0.7.1 in /opt/anaconda3/envs/dataton/lib/python3.12/site-packages (from jsonschema>=2.6->nbformat) (0.20.0)\n",
      "Requirement already satisfied: platformdirs>=2.5 in /opt/anaconda3/envs/dataton/lib/python3.12/site-packages (from jupyter-core!=5.0.*,>=4.12->nbformat) (4.3.6)\n",
      "Note: you may need to restart the kernel to use updated packages.\n",
      "Requirement already satisfied: ipython in /opt/anaconda3/envs/dataton/lib/python3.12/site-packages (8.27.0)\n",
      "Requirement already satisfied: decorator in /opt/anaconda3/envs/dataton/lib/python3.12/site-packages (from ipython) (5.1.1)\n",
      "Requirement already satisfied: jedi>=0.16 in /opt/anaconda3/envs/dataton/lib/python3.12/site-packages (from ipython) (0.19.1)\n",
      "Requirement already satisfied: matplotlib-inline in /opt/anaconda3/envs/dataton/lib/python3.12/site-packages (from ipython) (0.1.7)\n",
      "Requirement already satisfied: prompt-toolkit<3.1.0,>=3.0.41 in /opt/anaconda3/envs/dataton/lib/python3.12/site-packages (from ipython) (3.0.47)\n",
      "Requirement already satisfied: pygments>=2.4.0 in /opt/anaconda3/envs/dataton/lib/python3.12/site-packages (from ipython) (2.18.0)\n",
      "Requirement already satisfied: stack-data in /opt/anaconda3/envs/dataton/lib/python3.12/site-packages (from ipython) (0.6.2)\n",
      "Requirement already satisfied: traitlets>=5.13.0 in /opt/anaconda3/envs/dataton/lib/python3.12/site-packages (from ipython) (5.14.3)\n",
      "Requirement already satisfied: pexpect>4.3 in /opt/anaconda3/envs/dataton/lib/python3.12/site-packages (from ipython) (4.9.0)\n",
      "Requirement already satisfied: parso<0.9.0,>=0.8.3 in /opt/anaconda3/envs/dataton/lib/python3.12/site-packages (from jedi>=0.16->ipython) (0.8.4)\n",
      "Requirement already satisfied: ptyprocess>=0.5 in /opt/anaconda3/envs/dataton/lib/python3.12/site-packages (from pexpect>4.3->ipython) (0.7.0)\n",
      "Requirement already satisfied: wcwidth in /opt/anaconda3/envs/dataton/lib/python3.12/site-packages (from prompt-toolkit<3.1.0,>=3.0.41->ipython) (0.2.13)\n",
      "Requirement already satisfied: executing>=1.2.0 in /opt/anaconda3/envs/dataton/lib/python3.12/site-packages (from stack-data->ipython) (2.1.0)\n",
      "Requirement already satisfied: asttokens>=2.1.0 in /opt/anaconda3/envs/dataton/lib/python3.12/site-packages (from stack-data->ipython) (2.4.1)\n",
      "Requirement already satisfied: pure-eval in /opt/anaconda3/envs/dataton/lib/python3.12/site-packages (from stack-data->ipython) (0.2.3)\n",
      "Requirement already satisfied: six>=1.12.0 in /opt/anaconda3/envs/dataton/lib/python3.12/site-packages (from asttokens>=2.1.0->stack-data->ipython) (1.16.0)\n",
      "Note: you may need to restart the kernel to use updated packages.\n",
      "Collecting nbformat==4.2.0\n",
      "  Downloading nbformat-4.2.0-py2.py3-none-any.whl.metadata (1.1 kB)\n",
      "Collecting ipython-genutils (from nbformat==4.2.0)\n",
      "  Downloading ipython_genutils-0.2.0-py2.py3-none-any.whl.metadata (755 bytes)\n",
      "Requirement already satisfied: jsonschema!=2.5.0,>=2.4 in /opt/anaconda3/envs/dataton/lib/python3.12/site-packages (from nbformat==4.2.0) (4.23.0)\n",
      "Requirement already satisfied: jupyter-core in /opt/anaconda3/envs/dataton/lib/python3.12/site-packages (from nbformat==4.2.0) (5.7.2)\n",
      "Requirement already satisfied: traitlets>=4.1 in /opt/anaconda3/envs/dataton/lib/python3.12/site-packages (from nbformat==4.2.0) (5.14.3)\n",
      "Requirement already satisfied: attrs>=22.2.0 in /opt/anaconda3/envs/dataton/lib/python3.12/site-packages (from jsonschema!=2.5.0,>=2.4->nbformat==4.2.0) (24.2.0)\n",
      "Requirement already satisfied: jsonschema-specifications>=2023.03.6 in /opt/anaconda3/envs/dataton/lib/python3.12/site-packages (from jsonschema!=2.5.0,>=2.4->nbformat==4.2.0) (2023.12.1)\n",
      "Requirement already satisfied: referencing>=0.28.4 in /opt/anaconda3/envs/dataton/lib/python3.12/site-packages (from jsonschema!=2.5.0,>=2.4->nbformat==4.2.0) (0.35.1)\n",
      "Requirement already satisfied: rpds-py>=0.7.1 in /opt/anaconda3/envs/dataton/lib/python3.12/site-packages (from jsonschema!=2.5.0,>=2.4->nbformat==4.2.0) (0.20.0)\n",
      "Requirement already satisfied: platformdirs>=2.5 in /opt/anaconda3/envs/dataton/lib/python3.12/site-packages (from jupyter-core->nbformat==4.2.0) (4.3.6)\n",
      "Downloading nbformat-4.2.0-py2.py3-none-any.whl (153 kB)\n",
      "Downloading ipython_genutils-0.2.0-py2.py3-none-any.whl (26 kB)\n",
      "Installing collected packages: ipython-genutils, nbformat\n",
      "  Attempting uninstall: nbformat\n",
      "    Found existing installation: nbformat 5.10.4\n",
      "    Uninstalling nbformat-5.10.4:\n",
      "      Successfully uninstalled nbformat-5.10.4\n",
      "Successfully installed ipython-genutils-0.2.0 nbformat-4.2.0\n",
      "Note: you may need to restart the kernel to use updated packages.\n"
     ]
    }
   ],
   "source": [
    "%pip install plotly\n",
    "%pip install nbformat\n",
    "%pip install ipython\n",
    "%pip install nbformat==4.2.0"
   ]
  },
  {
   "cell_type": "code",
   "execution_count": 1,
   "metadata": {},
   "outputs": [],
   "source": [
    "# Importar librerías\n",
    "import pandas as pd\n",
    "import matplotlib.pyplot as plt\n",
    "import seaborn as sns\n",
    "import numpy as np\n",
    "import plotly.express as px\n",
    "import plotly.graph_objects as go"
   ]
  },
  {
   "cell_type": "code",
   "execution_count": 2,
   "metadata": {},
   "outputs": [],
   "source": [
    "# Leer archivo \n",
    "enfermedades = pd.read_csv(\"../data/enfermedades_por_municipio.csv\")"
   ]
  },
  {
   "cell_type": "code",
   "execution_count": 20,
   "metadata": {},
   "outputs": [
    {
     "data": {
      "text/plain": [
       "Index(['año', 'enfermedades', 'total', 'aguascalientes', 'aguascalientes.1',\n",
       "       'otros municipios', 'baja california', 'ensenada', 'mexicali', 'tecate',\n",
       "       ...\n",
       "       'otros municipios.30', 'zacatecas', 'fresnillo', 'guadalupe.1', 'jerez',\n",
       "       'ojocaliente', 'río grande', 'tlaltenango de sánchez román',\n",
       "       'zacatecas.1', 'otros municipios.31'],\n",
       "      dtype='object', length=413)"
      ]
     },
     "execution_count": 20,
     "metadata": {},
     "output_type": "execute_result"
    }
   ],
   "source": [
    "enfermedades.columns"
   ]
  },
  {
   "cell_type": "code",
   "execution_count": 21,
   "metadata": {},
   "outputs": [
    {
     "data": {
      "text/html": [
       "<div>\n",
       "<style scoped>\n",
       "    .dataframe tbody tr th:only-of-type {\n",
       "        vertical-align: middle;\n",
       "    }\n",
       "\n",
       "    .dataframe tbody tr th {\n",
       "        vertical-align: top;\n",
       "    }\n",
       "\n",
       "    .dataframe thead th {\n",
       "        text-align: right;\n",
       "    }\n",
       "</style>\n",
       "<table border=\"1\" class=\"dataframe\">\n",
       "  <thead>\n",
       "    <tr style=\"text-align: right;\">\n",
       "      <th></th>\n",
       "      <th>index</th>\n",
       "      <th>año</th>\n",
       "      <th>enfermedades</th>\n",
       "      <th>total</th>\n",
       "      <th>aguascalientes</th>\n",
       "      <th>aguascalientes.1</th>\n",
       "      <th>otros municipios</th>\n",
       "      <th>baja california</th>\n",
       "      <th>ensenada</th>\n",
       "      <th>mexicali</th>\n",
       "      <th>...</th>\n",
       "      <th>otros municipios.30</th>\n",
       "      <th>zacatecas</th>\n",
       "      <th>fresnillo</th>\n",
       "      <th>guadalupe.1</th>\n",
       "      <th>jerez</th>\n",
       "      <th>ojocaliente</th>\n",
       "      <th>río grande</th>\n",
       "      <th>tlaltenango de sánchez román</th>\n",
       "      <th>zacatecas.1</th>\n",
       "      <th>otros municipios.31</th>\n",
       "    </tr>\n",
       "  </thead>\n",
       "  <tbody>\n",
       "    <tr>\n",
       "      <th>0</th>\n",
       "      <td>1</td>\n",
       "      <td>2004</td>\n",
       "      <td>Total</td>\n",
       "      <td>3835924.0</td>\n",
       "      <td>39321</td>\n",
       "      <td>37084</td>\n",
       "      <td>2237</td>\n",
       "      <td>119309.0</td>\n",
       "      <td>8823</td>\n",
       "      <td>26181.0</td>\n",
       "      <td>...</td>\n",
       "      <td>1784</td>\n",
       "      <td>36650.0</td>\n",
       "      <td>7679</td>\n",
       "      <td>12437</td>\n",
       "      <td>4164</td>\n",
       "      <td></td>\n",
       "      <td></td>\n",
       "      <td>1351</td>\n",
       "      <td>4855</td>\n",
       "      <td>6164</td>\n",
       "    </tr>\n",
       "    <tr>\n",
       "      <th>1</th>\n",
       "      <td>3</td>\n",
       "      <td>2004</td>\n",
       "      <td>Ciertas enfermedades infecciosas y parasitarias</td>\n",
       "      <td>263696.0</td>\n",
       "      <td>1415</td>\n",
       "      <td>1412</td>\n",
       "      <td>3</td>\n",
       "      <td>4637.0</td>\n",
       "      <td>523</td>\n",
       "      <td>1763.0</td>\n",
       "      <td>...</td>\n",
       "      <td>138</td>\n",
       "      <td>2298.0</td>\n",
       "      <td>564</td>\n",
       "      <td>426</td>\n",
       "      <td>201</td>\n",
       "      <td></td>\n",
       "      <td></td>\n",
       "      <td>99</td>\n",
       "      <td>240</td>\n",
       "      <td>768</td>\n",
       "    </tr>\n",
       "    <tr>\n",
       "      <th>2</th>\n",
       "      <td>5</td>\n",
       "      <td>2004</td>\n",
       "      <td>Tumores [NEOPLASIAS]</td>\n",
       "      <td>217265.0</td>\n",
       "      <td>1269</td>\n",
       "      <td>1241</td>\n",
       "      <td>28</td>\n",
       "      <td>32163.0</td>\n",
       "      <td>390</td>\n",
       "      <td>1839.0</td>\n",
       "      <td>...</td>\n",
       "      <td>103</td>\n",
       "      <td>1794.0</td>\n",
       "      <td>80</td>\n",
       "      <td>880</td>\n",
       "      <td>158</td>\n",
       "      <td></td>\n",
       "      <td></td>\n",
       "      <td>32</td>\n",
       "      <td>336</td>\n",
       "      <td>308</td>\n",
       "    </tr>\n",
       "    <tr>\n",
       "      <th>3</th>\n",
       "      <td>7</td>\n",
       "      <td>2004</td>\n",
       "      <td>Enfermedades de la sangre y de los organos hem...</td>\n",
       "      <td>31733.0</td>\n",
       "      <td>204</td>\n",
       "      <td>191</td>\n",
       "      <td>13</td>\n",
       "      <td>663.0</td>\n",
       "      <td>61</td>\n",
       "      <td>290.0</td>\n",
       "      <td>...</td>\n",
       "      <td>42</td>\n",
       "      <td>862.0</td>\n",
       "      <td>427</td>\n",
       "      <td>137</td>\n",
       "      <td>111</td>\n",
       "      <td></td>\n",
       "      <td></td>\n",
       "      <td>5</td>\n",
       "      <td>47</td>\n",
       "      <td>135</td>\n",
       "    </tr>\n",
       "    <tr>\n",
       "      <th>4</th>\n",
       "      <td>9</td>\n",
       "      <td>2004</td>\n",
       "      <td>Enfermedades endócrinas, nutricionales y metab...</td>\n",
       "      <td>182749.0</td>\n",
       "      <td>1954</td>\n",
       "      <td>1936</td>\n",
       "      <td>18</td>\n",
       "      <td>8755.0</td>\n",
       "      <td>525</td>\n",
       "      <td>1482.0</td>\n",
       "      <td>...</td>\n",
       "      <td>87</td>\n",
       "      <td>1729.0</td>\n",
       "      <td>350</td>\n",
       "      <td>375</td>\n",
       "      <td>327</td>\n",
       "      <td></td>\n",
       "      <td></td>\n",
       "      <td>30</td>\n",
       "      <td>327</td>\n",
       "      <td>320</td>\n",
       "    </tr>\n",
       "    <tr>\n",
       "      <th>...</th>\n",
       "      <td>...</td>\n",
       "      <td>...</td>\n",
       "      <td>...</td>\n",
       "      <td>...</td>\n",
       "      <td>...</td>\n",
       "      <td>...</td>\n",
       "      <td>...</td>\n",
       "      <td>...</td>\n",
       "      <td>...</td>\n",
       "      <td>...</td>\n",
       "      <td>...</td>\n",
       "      <td>...</td>\n",
       "      <td>...</td>\n",
       "      <td>...</td>\n",
       "      <td>...</td>\n",
       "      <td>...</td>\n",
       "      <td>...</td>\n",
       "      <td>...</td>\n",
       "      <td>...</td>\n",
       "      <td>...</td>\n",
       "      <td>...</td>\n",
       "    </tr>\n",
       "    <tr>\n",
       "      <th>419</th>\n",
       "      <td>839</td>\n",
       "      <td>2023</td>\n",
       "      <td>Traumatismos, envenenamientos y algunas otras ...</td>\n",
       "      <td>460035.0</td>\n",
       "      <td>11551</td>\n",
       "      <td>11290</td>\n",
       "      <td>261</td>\n",
       "      <td>8688.0</td>\n",
       "      <td>1154</td>\n",
       "      <td>3779.0</td>\n",
       "      <td>...</td>\n",
       "      <td>533</td>\n",
       "      <td>5114.0</td>\n",
       "      <td>1417</td>\n",
       "      <td>1200</td>\n",
       "      <td>771</td>\n",
       "      <td>73</td>\n",
       "      <td></td>\n",
       "      <td>250</td>\n",
       "      <td>416</td>\n",
       "      <td>987</td>\n",
       "    </tr>\n",
       "    <tr>\n",
       "      <th>420</th>\n",
       "      <td>841</td>\n",
       "      <td>2023</td>\n",
       "      <td>Factores que influyen en el estado de salud y...</td>\n",
       "      <td>244719.0</td>\n",
       "      <td>3798</td>\n",
       "      <td>3241</td>\n",
       "      <td>557</td>\n",
       "      <td>18871.0</td>\n",
       "      <td>50</td>\n",
       "      <td>3753.0</td>\n",
       "      <td>...</td>\n",
       "      <td>33</td>\n",
       "      <td>801.0</td>\n",
       "      <td>2</td>\n",
       "      <td>294</td>\n",
       "      <td>420</td>\n",
       "      <td></td>\n",
       "      <td></td>\n",
       "      <td></td>\n",
       "      <td>24</td>\n",
       "      <td>61</td>\n",
       "    </tr>\n",
       "    <tr>\n",
       "      <th>421</th>\n",
       "      <td>843</td>\n",
       "      <td>2023</td>\n",
       "      <td>COVID 19</td>\n",
       "      <td>19977.0</td>\n",
       "      <td></td>\n",
       "      <td></td>\n",
       "      <td></td>\n",
       "      <td>111.0</td>\n",
       "      <td></td>\n",
       "      <td>42.0</td>\n",
       "      <td>...</td>\n",
       "      <td></td>\n",
       "      <td>169.0</td>\n",
       "      <td></td>\n",
       "      <td>169</td>\n",
       "      <td></td>\n",
       "      <td></td>\n",
       "      <td></td>\n",
       "      <td></td>\n",
       "      <td></td>\n",
       "      <td></td>\n",
       "    </tr>\n",
       "    <tr>\n",
       "      <th>422</th>\n",
       "      <td>845</td>\n",
       "      <td>NaN</td>\n",
       "      <td>NaN</td>\n",
       "      <td>NaN</td>\n",
       "      <td>NaN</td>\n",
       "      <td>NaN</td>\n",
       "      <td>NaN</td>\n",
       "      <td>NaN</td>\n",
       "      <td>NaN</td>\n",
       "      <td>NaN</td>\n",
       "      <td>...</td>\n",
       "      <td>NaN</td>\n",
       "      <td>NaN</td>\n",
       "      <td>NaN</td>\n",
       "      <td>NaN</td>\n",
       "      <td>NaN</td>\n",
       "      <td>NaN</td>\n",
       "      <td>NaN</td>\n",
       "      <td>NaN</td>\n",
       "      <td>NaN</td>\n",
       "      <td>NaN</td>\n",
       "    </tr>\n",
       "    <tr>\n",
       "      <th>423</th>\n",
       "      <td>847</td>\n",
       "      <td>FUENTE: INEGI. Estadísticas de salud en establ...</td>\n",
       "      <td>NaN</td>\n",
       "      <td>NaN</td>\n",
       "      <td>NaN</td>\n",
       "      <td>NaN</td>\n",
       "      <td>NaN</td>\n",
       "      <td>NaN</td>\n",
       "      <td>NaN</td>\n",
       "      <td>NaN</td>\n",
       "      <td>...</td>\n",
       "      <td>NaN</td>\n",
       "      <td>NaN</td>\n",
       "      <td>NaN</td>\n",
       "      <td>NaN</td>\n",
       "      <td>NaN</td>\n",
       "      <td>NaN</td>\n",
       "      <td>NaN</td>\n",
       "      <td>NaN</td>\n",
       "      <td>NaN</td>\n",
       "      <td>NaN</td>\n",
       "    </tr>\n",
       "  </tbody>\n",
       "</table>\n",
       "<p>424 rows × 414 columns</p>\n",
       "</div>"
      ],
      "text/plain": [
       "     index                                                año  \\\n",
       "0        1                                               2004   \n",
       "1        3                                               2004   \n",
       "2        5                                               2004   \n",
       "3        7                                               2004   \n",
       "4        9                                               2004   \n",
       "..     ...                                                ...   \n",
       "419    839                                               2023   \n",
       "420    841                                               2023   \n",
       "421    843                                               2023   \n",
       "422    845                                                NaN   \n",
       "423    847  FUENTE: INEGI. Estadísticas de salud en establ...   \n",
       "\n",
       "                                          enfermedades      total  \\\n",
       "0                                                Total  3835924.0   \n",
       "1      Ciertas enfermedades infecciosas y parasitarias   263696.0   \n",
       "2                                 Tumores [NEOPLASIAS]   217265.0   \n",
       "3    Enfermedades de la sangre y de los organos hem...    31733.0   \n",
       "4    Enfermedades endócrinas, nutricionales y metab...   182749.0   \n",
       "..                                                 ...        ...   \n",
       "419  Traumatismos, envenenamientos y algunas otras ...   460035.0   \n",
       "420   Factores que influyen en el estado de salud y...   244719.0   \n",
       "421                                           COVID 19    19977.0   \n",
       "422                                                NaN        NaN   \n",
       "423                                                NaN        NaN   \n",
       "\n",
       "    aguascalientes aguascalientes.1 otros municipios  baja california  \\\n",
       "0            39321            37084             2237         119309.0   \n",
       "1             1415             1412                3           4637.0   \n",
       "2             1269             1241               28          32163.0   \n",
       "3              204              191               13            663.0   \n",
       "4             1954             1936               18           8755.0   \n",
       "..             ...              ...              ...              ...   \n",
       "419          11551            11290              261           8688.0   \n",
       "420           3798             3241              557          18871.0   \n",
       "421                                                             111.0   \n",
       "422            NaN              NaN              NaN              NaN   \n",
       "423            NaN              NaN              NaN              NaN   \n",
       "\n",
       "    ensenada  mexicali  ... otros municipios.30  zacatecas fresnillo  \\\n",
       "0       8823   26181.0  ...                1784    36650.0      7679   \n",
       "1        523    1763.0  ...                 138     2298.0       564   \n",
       "2        390    1839.0  ...                 103     1794.0        80   \n",
       "3         61     290.0  ...                  42      862.0       427   \n",
       "4        525    1482.0  ...                  87     1729.0       350   \n",
       "..       ...       ...  ...                 ...        ...       ...   \n",
       "419     1154    3779.0  ...                 533     5114.0      1417   \n",
       "420       50    3753.0  ...                  33      801.0         2   \n",
       "421               42.0  ...                          169.0             \n",
       "422      NaN       NaN  ...                 NaN        NaN       NaN   \n",
       "423      NaN       NaN  ...                 NaN        NaN       NaN   \n",
       "\n",
       "    guadalupe.1  jerez ojocaliente río grande tlaltenango de sánchez román  \\\n",
       "0         12437   4164                                                1351   \n",
       "1           426    201                                                  99   \n",
       "2           880    158                                                  32   \n",
       "3           137    111                                                   5   \n",
       "4           375    327                                                  30   \n",
       "..          ...    ...         ...        ...                          ...   \n",
       "419        1200    771          73                                     250   \n",
       "420         294    420                                                       \n",
       "421         169                                                              \n",
       "422         NaN    NaN         NaN        NaN                          NaN   \n",
       "423         NaN    NaN         NaN        NaN                          NaN   \n",
       "\n",
       "    zacatecas.1 otros municipios.31  \n",
       "0          4855                6164  \n",
       "1           240                 768  \n",
       "2           336                 308  \n",
       "3            47                 135  \n",
       "4           327                 320  \n",
       "..          ...                 ...  \n",
       "419         416                 987  \n",
       "420          24                  61  \n",
       "421                                  \n",
       "422         NaN                 NaN  \n",
       "423         NaN                 NaN  \n",
       "\n",
       "[424 rows x 414 columns]"
      ]
     },
     "execution_count": 21,
     "metadata": {},
     "output_type": "execute_result"
    }
   ],
   "source": [
    "#Limpiar el nombre de las columnas \n",
    "# Eliminar renglones vacíos\n",
    "enfermedades.columns = enfermedades.columns.str.strip().str.lower()\n",
    "enfermedades_limpio = enfermedades[enfermedades.index % 2 != 0]\n",
    "\n",
    "enfermedades_limpio.reset_index()"
   ]
  },
  {
   "cell_type": "code",
   "execution_count": 6,
   "metadata": {},
   "outputs": [
    {
     "name": "stdout",
     "output_type": "stream",
     "text": [
      "año\n",
      "enfermedades\n",
      "total\n",
      "aguascalientes\n",
      "aguascalientes.1\n",
      "otros municipios\n",
      "baja california\n",
      "ensenada\n",
      "mexicali\n",
      "tecate\n",
      "tijuana\n",
      "playas de rosarito\n",
      "otros municipios.1\n",
      "baja california sur\n",
      "la paz\n",
      "los cabos\n",
      "otros municipios.2\n",
      "campeche\n",
      "campeche.1\n",
      "carmen\n",
      "otros municipios.3\n",
      "coahuila de zaragoza\n",
      "acuña\n",
      "monclova\n",
      "piedras negras\n",
      "sabinas\n",
      "saltillo\n",
      "torreón\n",
      "otros municipios.4\n",
      "colima\n",
      "colima.1\n",
      "manzanillo\n",
      "tecomán\n",
      "otros municipios.5\n",
      "chiapas\n",
      "comitán de domínguez\n",
      "palenque\n",
      "pijijiapan\n",
      "san cristóbal de las casas\n",
      "tapachula\n",
      "tonalá\n",
      "tuxtla gutiérrez\n",
      "villaflores\n",
      "otros municipios.6\n",
      "chihuahua\n",
      "cuauhtémoc\n",
      "chihuahua.1\n",
      "delicias\n",
      "juárez\n",
      "madera\n",
      "nuevo casas grandes\n",
      "otros municipios.7\n",
      "ciudad de méxico\n",
      "azcapotzalco\n",
      "coyoacán\n",
      "cuajimalpa de morelos\n",
      "gustavo a. madero\n",
      "iztacalco\n",
      "iztapalapa\n",
      "la magdalena contreras\n",
      "milpa alta\n",
      "álvaro obregón\n",
      "tláhuac\n",
      "tlalpan\n",
      "xochimilco\n",
      "benito juárez\n",
      "cuauhtémoc.1\n",
      "miguel hidalgo\n",
      "venustiano carranza\n",
      "otros municipios.8\n",
      "durango\n",
      "durango.1\n",
      "santiago papasquiaro\n",
      "otros municipios.9\n",
      "guanajuato\n",
      "abasolo\n",
      "acámbaro\n",
      "san miguel de allende\n",
      "apaseo el alto\n",
      "apaseo el grande\n",
      "celaya\n",
      "manuel doblado\n",
      "cortazar\n",
      "dolores hidalgo cuna de la independencia nacional\n",
      "guanajuato.1\n",
      "huanímaro\n",
      "irapuato\n",
      "león\n",
      "moroleón\n",
      "pénjamo\n",
      "pueblo nuevo\n",
      "salamanca\n",
      "salvatierra\n",
      "san felipe\n",
      "san francisco del rincón\n",
      "san josé iturbide\n",
      "san luis de la paz\n",
      "santa cruz de juventino rosas\n",
      "silao de la victoria\n",
      "tarandacuao\n",
      "uriangato\n",
      "valle de santiago\n",
      "villagrán\n",
      "yuriria\n",
      "otros municipios.10\n",
      "guerrero\n",
      "acapulco de juárez\n",
      "ajuchitlán del progreso\n",
      "arcelia\n",
      "atoyac de álvarez\n",
      "chilapa de álvarez\n",
      "chilpancingo de los bravo\n",
      "iguala de la independencia\n",
      "zihuatanejo de azueta\n",
      "juan r. escudero\n",
      "ometepec\n",
      "pungarabato\n",
      "taxco de alarcón\n",
      "técpan de galeana\n",
      "teloloapan\n",
      "tlapa de comonfort\n",
      "tlapehuala\n",
      "otros municipios.11\n",
      "hidalgo\n",
      "actopan\n",
      "apan\n",
      "huejutla de reyes\n",
      "huichapan\n",
      "ixmiquilpan\n",
      "mixquiahuala de juárez\n",
      "pachuca de soto\n",
      "progreso de obregón\n",
      "tepeapulco\n",
      "tepeji del río de ocampo\n",
      "tezontepec de aldama\n",
      "tizayuca\n",
      "tlaxcoapan\n",
      "tula de allende\n",
      "tulancingo de bravo\n",
      "zimapán\n",
      "otros municipios.12\n",
      "jalisco\n",
      "arandas\n",
      "autlán de navarro\n",
      "zapotlán el grande\n",
      "chapala\n",
      "encarnación de díaz\n",
      "guadalajara\n",
      "jalostotitlán\n",
      "jocotepec\n",
      "lagos de moreno\n",
      "ocotlán\n",
      "puerto vallarta\n",
      "san juan de los lagos\n",
      "teocaltiche\n",
      "tepatitlán de morelos\n",
      "tlajomulco de zúñiga\n",
      "san pedro tlaquepaque\n",
      "tonalá.1\n",
      "zapopan\n",
      "otros municipios.13\n",
      "méxico\n",
      "acambay de ruíz castañeda\n",
      "acolman\n",
      "almoloya de juárez\n",
      "amecameca\n",
      "atizapán de zaragoza\n",
      "atlacomulco\n",
      "calimaya\n",
      "capulhuac\n",
      "coacalco de berriozábal\n",
      "coatepec harinas\n",
      "cuautitlán\n",
      "chalco\n",
      "chicoloapan\n",
      "chiconcuac\n",
      "chimalhuacán\n",
      "ecatepec de morelos\n",
      "huixquilucan\n",
      "ixtapaluca\n",
      "ixtapan de la sal\n",
      "ixtlahuaca\n",
      "jilotepec\n",
      "jiquipilco\n",
      "lerma\n",
      "melchor ocampo\n",
      "metepec\n",
      "naucalpan de juárez\n",
      "nezahualcóyotl\n",
      "nicolás romero\n",
      "el oro\n",
      "otumba\n",
      "otzolotepec\n",
      "la paz.1\n",
      "san felipe del progreso\n",
      "san mateo atenco\n",
      "tecámac\n",
      "tejupilco\n",
      "temascalcingo\n",
      "temoaya\n",
      "tenancingo\n",
      "teoloyucan\n",
      "teotihuacán\n",
      "tepetlixpa\n",
      "texcoco\n",
      "tianguistenco\n",
      "tlalnepantla de baz\n",
      "toluca\n",
      "tultitlán\n",
      "valle de bravo\n",
      "villa victoria\n",
      "xonacatlán\n",
      "zinacantepec\n",
      "zumpango\n",
      "cuautitlán izcalli\n",
      "valle de chalco solidaridad\n",
      "otros municipios.14\n",
      "michoacán de ocampo\n",
      "apatzingán\n",
      "hidalgo.1\n",
      "huetamo\n",
      "jiménez\n",
      "jiquilpan\n",
      "maravatío\n",
      "lázaro cárdenas\n",
      "morelia\n",
      "pátzcuaro\n",
      "la piedad\n",
      "purépero\n",
      "puruándiro\n",
      "quiroga\n",
      "los reyes\n",
      "sahuayo\n",
      "tacámbaro\n",
      "uruapan\n",
      "zacapu\n",
      "zamora\n",
      "zinapécuaro\n",
      "zitácuaro\n",
      "otros municipios.15\n",
      "morelos\n",
      "axochiapan\n",
      "cuautla\n",
      "cuernavaca\n",
      "jiutepec\n",
      "jojutla\n",
      "puente de ixtla\n",
      "temixco\n",
      "xochitepec\n",
      "yautepec\n",
      "otros municipios.16\n",
      "nayarit\n",
      "ixtlán del río\n",
      "tepic\n",
      "bahía de banderas\n",
      "otros municipios.17\n",
      "nuevo león\n",
      "apodaca\n",
      "cadereyta jiménez\n",
      "san pedro garza garcía\n",
      "guadalupe\n",
      "linares\n",
      "montemorelos\n",
      "monterrey\n",
      "san nicolás de los garza\n",
      "otros municipios.18\n",
      "oaxaca\n",
      "ciudad ixtepec\n",
      "heroica ciudad de huajuapan de león\n",
      "heroica ciudad de juchitán de zaragoza\n",
      "loma bonita\n",
      "matías romero avendaño\n",
      "oaxaca de juárez\n",
      "putla villa de guerrero\n",
      "salina cruz\n",
      "san juan bautista tuxtepec\n",
      "san lorenzo cacaotepec\n",
      "san pedro mixtepec\n",
      "heroica ciudad de tlaxiaco\n",
      "santa maría huatulco\n",
      "santiago pinotepa nacional\n",
      "santo domingo tehuantepec\n",
      "tlacolula de matamoros\n",
      "zimatlán de álvarez\n",
      "otros municipios.19\n",
      "puebla\n",
      "acatlán\n",
      "acatzingo\n",
      "atlixco\n",
      "huauchinango\n",
      "huejotzingo\n",
      "izúcar de matamoros\n",
      "puebla.1\n",
      "san martín texmelucan\n",
      "san pedro cholula\n",
      "tecamachalco\n",
      "tehuacán\n",
      "tepeaca\n",
      "teziutlán\n",
      "xicotepec\n",
      "otros municipios.20\n",
      "querétaro arteaga\n",
      "amealco de bonfil\n",
      "cadereyta de montes\n",
      "corregidora\n",
      "ezequiel montes\n",
      "jalpan de serra\n",
      "querétaro\n",
      "san juan del río\n",
      "tequisquiapan\n",
      "otros municipios.21\n",
      "quintana roo\n",
      "cozumel\n",
      "othón p. blanco\n",
      "benito juárez.1\n",
      "solidaridad\n",
      "otros municipios.22\n",
      "san luis potosí\n",
      "ahualulco\n",
      "cerritos\n",
      "ciudad valles\n",
      "matehuala\n",
      "rioverde\n",
      "san luis potosí.1\n",
      "otros municipios.23\n",
      "sinaloa\n",
      "ahome\n",
      "culiacán\n",
      "escuinapa\n",
      "guasave\n",
      "mazatlán\n",
      "salvador alvarado\n",
      "otros municipios.24\n",
      "sonora\n",
      "agua prieta\n",
      "caborca\n",
      "cajeme\n",
      "hermosillo\n",
      "huatabampo\n",
      "magdalena\n",
      "navojoa\n",
      "nogales\n",
      "puerto peñasco\n",
      "san luis río colorado\n",
      "otros municipios.25\n",
      "tabasco\n",
      "cárdenas\n",
      "centro\n",
      "comalcalco\n",
      "cunduacán\n",
      "emiliano zapata\n",
      "macuspana\n",
      "paraíso\n",
      "otros municipios.26\n",
      "tamaulipas\n",
      "camargo\n",
      "matamoros\n",
      "miguel alemán\n",
      "nuevo laredo\n",
      "reynosa\n",
      "río bravo\n",
      "tampico\n",
      "valle hermoso\n",
      "victoria\n",
      "otros municipios.27\n",
      "tlaxcala\n",
      "apizaco\n",
      "calpulalpan\n",
      "chiautempan\n",
      "huamantla\n",
      "tlaxcala.1\n",
      "xaloztoc\n",
      "zacatelco\n",
      "otros municipios.28\n",
      "veracruz de ignacio de la llave\n",
      "acayucan\n",
      "naranjos amatlán\n",
      "boca del río\n",
      "camerino z. mendoza\n",
      "coatzacoalcos\n",
      "córdoba\n",
      "cuitláhuac\n",
      "las choapas\n",
      "huatusco\n",
      "isla\n",
      "xalapa\n",
      "martínez de la torre\n",
      "minatitlán\n",
      "orizaba\n",
      "papantla\n",
      "perote\n",
      "poza rica de hidalgo\n",
      "san andrés tuxtla\n",
      "santiago tuxtla\n",
      "álamo temapache\n",
      "tierra blanca\n",
      "tuxpan\n",
      "veracruz\n",
      "otros municipios.29\n",
      "yucatán\n",
      "mérida\n",
      "tizimín\n",
      "valladolid\n",
      "otros municipios.30\n",
      "zacatecas\n",
      "fresnillo\n",
      "guadalupe.1\n",
      "jerez\n",
      "ojocaliente\n",
      "río grande\n",
      "tlaltenango de sánchez román\n",
      "zacatecas.1\n",
      "otros municipios.31\n"
     ]
    }
   ],
   "source": [
    "# Elegir sólo los datos del 2023\n",
    "enfermedades_limpio = enfermedades_limpio[enfermedades_limpio[\"año\"] == \"2023\"]\n",
    "columnas = enfermedades_limpio.columns"
   ]
  },
  {
   "cell_type": "code",
   "execution_count": 8,
   "metadata": {},
   "outputs": [],
   "source": [
    "# Diccionario de entidades con los municipios incluidos en la base de datos\n",
    "entidades = {\"aguascalientes\":[\"aguascalientes.1\",\"otros municipios\"], \n",
    "             \"baja california\":[\"ensenada\",\"mexicali\",\"tecate\",\"tijuana\",\"playas de rosarito\",\"otros municipios.1\"] , \n",
    "             \"baja california sur\":[\"la paz\",\"los cabos\",\"otros municipios.2\"],\n",
    "             \"campeche\":[\"campeche.1\", \"carmen\",\"otros municipios.3\"], \n",
    "             \"coahuila de zaragoza\":[\"acuña\", \"monclova\", \"piedras negras\", \"sabinas\", \"saltillo\", \"torreón\", \"otros municipios.4\"], \n",
    "             \"colima\":[\"colima.1\",\"manzanillo\",\"tecomán\",\"otros municipios.5\"], \n",
    "             \"chiapas\":[\"comitán de domínguez\",\"palenque\",\"pijijiapan\",\"san cristóbal de las casas\",\"tapachula\",\"tonalá\",\"tuxtla gutiérrez\",\"villaflores\",\"otros municipios.6\"],\n",
    "             \"chihuahua\": [\"cuauhtémoc\",\"chihuahua.1\",\"delicias\",\"juárez\",\"madera\",\"nuevo casas grandes\",\"otros municipios.7\"],\n",
    "             \"ciudad de méxico\": [\"azcapotzalco\",\"coyoacán\",\"cuajimalpa de morelos\",\"gustavo a. madero\",\"iztacalco\",\"iztapalapa\",\"la magdalena contreras\",\"milpa alta\",\"álvaro obregón\",\"tláhuac\",\"tlalpan\",\"xochimilco\",\"benito juárez\",\"cuauhtémoc.1\",\"miguel hidalgo\",\"venustiano carranza\",\"otros municipios.8\"],\n",
    "             \"durango\":[\"durango.1\",\"santiago papasquiaro\",\"otros municipios.9\"],\n",
    "             \"guanajuato\":[\"abasolo\",\"acámbaro\",\"san miguel de allende\",\"apaseo el alto\",\"apaseo el grande\",\"celaya\",\"manuel doblado\",\"cortazar\",\"dolores hidalgo cuna de la independencia nacional\",\"guanajuato.1\",\"huanímaro\",\"irapuato\",\"león\",\"moroleón\",\"pénjamo\",\"pueblo nuevo\",\"salamanca\",\"salvatierra\",\"san felipe\",\"san francisco del rincón\",\"san josé iturbide\",\"san luis de la paz\",\"santa cruz de juventino rosas\",\"silao de la victoria\",\"tarandacuao\",\"uriangato\",\"valle de santiago\",\"villagrán\",\"yuriria\",\"otros municipios.10\"],\n",
    "             \"guerrero\": [\"acapulco de juárez\",\"ajuchitlán del progreso\",\"arcelia\",\"atoyac de álvarez\",\"chilapa de álvarez\",\"chilpancingo de los bravo\",\"iguala de la independencia\",\"zihuatanejo de azueta\",\"juan r. escudero\",\"ometepec\",\"pungarabato\",\"taxco de alarcón\",\"técpan de galeana\",\"teloloapan\",\"tlapa de comonfort\",\"tlapehuala\",\"otros municipios.11\"],\n",
    "             \"hidalgo\": [\"actopan\",\"apan\",\"huejutla de reyes\",\"huichapan\",\"ixmiquilpan\",\"mixquiahuala de juárez\",\"pachuca de soto\",\"progreso de obregón\",\"tepeapulco\",\"tepeji del río de ocampo\",\"tezontepec de aldama\",\"tizayuca\",\"tlaxcoapan\",\"tula de allende\",\"tulancingo de bravo\",\"zimapán\"],\n",
    "             \"jalisco\": [\"arandas\",\"autlán de navarro\",\"zapotlán el grande\",\"chapala\",\"encarnación de díaz\",\"guadalajara\",\"jalostotitlán\",\"jocotepec\",\"lagos de moreno\",\"ocotlán\",\"puerto vallarta\",\"san juan de los lagos\",\"teocaltiche\",\"tepatitlán de morelos\",\"tlajomulco de zúñiga\",\"san pedro tlaquepaque\",\"tonalá.1\",\"zapopan\",\"otros municipios.13\"],\n",
    "             \"méxico\": [\"acambay de ruíz castañeda\",\"acolman\",\"almoloya de juárez\",\"amecameca\",\"atizapán de zaragoza\",\"atlacomulco\",\"calimaya\",\"capulhuac\",\"coacalco de berriozábal\",\"coatepec harinas\",\"cuautitlán\",\"chalco\",\"chicoloapan\",\"chiconcuac\",\"chimalhuacán\",\"ecatepec de morelos\",\"huixquilucan\",\"ixtapaluca\",\"ixtapan de la sal\",\"ixtlahuaca\",\"jilotepec\",\"jiquipilco\",\"lerma\",\"melchor ocampo\",\"metepec\",\"naucalpan de juárez\",\"nezahualcóyotl\",\"nicolás romero\",\"el oro\",\"otumba\",\"otzolotepec\",\"la paz.1\",\"san felipe del progreso\",\"san mateo atenco\",\"tecámac\",\"tejupilco\",\"temascalcingo\",\"temoaya\",\"tenancingo\",\"teoloyucan\",\"teotihuacán\",\"tepetlixpa\",\"texcoco\",\"tianguistenco\",\"tlalnepantla de baz\",\"toluca\",\"tultitlán\",\"valle de bravo\",\"villa victoria\",\"xonacatlán\",\"zinacantepec\",\"zumpango\",\"cuautitlán izcalli\",\"valle de chalco solidaridad\",\"otros municipios.14\"],\n",
    "             \"michoacán de ocampo\" : [\"apatzingán\",\"hidalgo.1\",\"huetamo\",\"jiménez\",\"jiquilpan\",\"maravatío\",\"lázaro cárdenas\",\"morelia\",\"pátzcuaro\",\"la piedad\",\"purépero\",\"puruándiro\",\"quiroga\",\"los reyes\",\"sahuayo\",\"tacámbaro\",\"uruapan\",\"zacapu\",\"zamora\",\"zinapécuaro\",\"zitácuaro\",\"otros municipios.15\"],\n",
    "             \"morelos\":[\"axochiapan\",\"cuautla\",\"cuernavaca\",\"jiutepec\",\"jojutla\",\"puente de ixtla\",\"temixco\",\"xochitepec\",\"yautepec\"],\n",
    "             \"nayarit\": [\"ixtlán del río\",\"tepic\",\"bahía de banderas\",\"otros municipios.17\"],\n",
    "             \"nuevo león\": ['apodaca','cadereyta jiménez','san pedro garza garcía','guadalupe','linares','montemorelos','monterrey','san nicolás de los garza','otros municipios.18'],\n",
    "             \"oaxaca\" : ['ciudad ixtepec','heroica ciudad de huajuapan de león','heroica ciudad de juchitán de zaragoza','loma bonita','matías romero avendaño','oaxaca de juárez','putla villa de guerrero','salina cruz','san juan bautista tuxtepec','san lorenzo cacaotepec','san pedro mixtepec','heroica ciudad de tlaxiaco','santa maría huatulco','santiago pinotepa nacional','santo domingo tehuantepec','tlacolula de matamoros','zimatlán de álvarez', 'otros municipios.19'],\n",
    "             \"puebla\": ['acatlán','acatzingo','atlixco','huauchinango','huejotzingo','izúcar de matamoros','puebla.1','san martín texmelucan','san pedro cholula','tecamachalco','tehuacán','tepeaca','teziutlán','xicotepec','otros municipios.20'],\n",
    "             \"querétaro arteaga\": ['amealco de bonfil','cadereyta de montes','corregidora','ezequiel montes','jalpan de serra','querétaro','san juan del río','tequisquiapan','otros municipios.21'],\n",
    "             \"quintana roo\" : ['cozumel','othón p. blanco','benito juárez.1','solidaridad','otros municipios.22'],\n",
    "             \"san luis potosí\": ['ahualulco','cerritos','ciudad valles','matehuala','rioverde','san luis potosí.1','otros municipios.23'],\n",
    "             \"sinaloa\":['ahome','culiacán','escuinapa','guasave','mazatlán','salvador alvarado','otros municipios.24'],\n",
    "             \"sonora\":['agua prieta','caborca','cajeme','hermosillo','huatabampo','magdalena','navojoa','nogales','puerto peñasco','san luis río colorado','otros municipios.25'],\n",
    "             \"tabasco\":['cárdenas','centro','comalcalco','cunduacán','emiliano zapata','macuspana','paraíso','otros municipios.26'],\n",
    "             \"tamaulipas\": ['camargo','matamoros','miguel alemán','nuevo laredo','reynosa','río bravo','tampico','valle hermoso','victoria','otros municipios.27'],\n",
    "             \"tlaxcala\":['apizaco','calpulalpan','chiautempan','huamantla','tlaxcala.1','xaloztoc','zacatelco','otros municipios.28'],\n",
    "             \"veracruz de ignacio de la llave\":['acayucan','naranjos amatlán','boca del río','camerino z. mendoza','coatzacoalcos','córdoba','cuitláhuac','las choapas','huatusco','isla','xalapa','martínez de la torre','minatitlán','orizaba','papantla','perote','poza rica de hidalgo','san andrés tuxtla','santiago tuxtla','álamo temapache','tierra blanca','tuxpan','veracruz','otros municipios.29'],\n",
    "             \"yucatán\":['mérida','tizimín','valladolid','otros municipios.30'],\n",
    "             \"zacatecas\":['fresnillo','guadalupe.1','jerez','ojocaliente','río grande','tlaltenango de sánchez román','zacatecas.1','otros municipios.31']}\n"
   ]
  },
  {
   "cell_type": "code",
   "execution_count": 9,
   "metadata": {},
   "outputs": [],
   "source": [
    "# Sacamos la enfermedad con máximo número de casos por municipio, por estado\n",
    "# lista_estados es una lista de data frames \n",
    "\n",
    "lista_estados = []\n",
    "for key,value in entidades.items():\n",
    "    columnas = entidades[key]\n",
    "    casos = enfermedades_limpio.loc[:, columnas + [\"enfermedades\"]].reset_index()\n",
    "\n",
    "    \n",
    "    casos[columnas] = casos[columnas].apply(pd.to_numeric, errors='coerce')\n",
    "\n",
    "    casos[columnas] = casos[columnas].fillna(0).astype(int)\n",
    "    casos[\"total_enfermos\"] = casos[columnas].sum(axis = 1)\n",
    "\n",
    "\n",
    "    # Nos deshacemos de la fila \"TOTAL\"\n",
    "    casos = casos.iloc[1:].reset_index(drop = True)\n",
    "    casos.reset_index()\n",
    "\n",
    "    df_melted = casos.melt(id_vars=['enfermedades'], \n",
    "                    value_vars=columnas,\n",
    "                    var_name='mun', \n",
    "                    value_name='casos')\n",
    "\n",
    "\n",
    "    max_diseases = df_melted.loc[df_melted.groupby('mun')['casos'].idxmax()]\n",
    "\n",
    "\n",
    "    result = max_diseases.reset_index(drop=True)\n",
    "    result[\"entidad\"] = key\n",
    "    lista_estados.append(result)\n",
    "\n",
    "\n",
    "\n"
   ]
  },
  {
   "cell_type": "code",
   "execution_count": 11,
   "metadata": {},
   "outputs": [],
   "source": [
    "# Concatenamos los data frames de cada estado\n",
    "enfermedades_estados = pd.concat(lista_estados)"
   ]
  },
  {
   "cell_type": "code",
   "execution_count": 12,
   "metadata": {},
   "outputs": [
    {
     "data": {
      "text/html": [
       "<div>\n",
       "<style scoped>\n",
       "    .dataframe tbody tr th:only-of-type {\n",
       "        vertical-align: middle;\n",
       "    }\n",
       "\n",
       "    .dataframe tbody tr th {\n",
       "        vertical-align: top;\n",
       "    }\n",
       "\n",
       "    .dataframe thead th {\n",
       "        text-align: right;\n",
       "    }\n",
       "</style>\n",
       "<table border=\"1\" class=\"dataframe\">\n",
       "  <thead>\n",
       "    <tr style=\"text-align: right;\">\n",
       "      <th></th>\n",
       "      <th>enfermedades</th>\n",
       "      <th>mun</th>\n",
       "      <th>casos</th>\n",
       "      <th>entidad</th>\n",
       "    </tr>\n",
       "  </thead>\n",
       "  <tbody>\n",
       "    <tr>\n",
       "      <th>4</th>\n",
       "      <td>Enfermedades del ojo y sus anexos</td>\n",
       "      <td>cuauhtémoc.1</td>\n",
       "      <td>97931</td>\n",
       "      <td>ciudad de méxico</td>\n",
       "    </tr>\n",
       "    <tr>\n",
       "      <th>5</th>\n",
       "      <td>Embarazo, parto y puerperio</td>\n",
       "      <td>monterrey</td>\n",
       "      <td>42048</td>\n",
       "      <td>nuevo león</td>\n",
       "    </tr>\n",
       "    <tr>\n",
       "      <th>4</th>\n",
       "      <td>Enfermedades del sistema digestivo</td>\n",
       "      <td>guadalajara</td>\n",
       "      <td>37920</td>\n",
       "      <td>jalisco</td>\n",
       "    </tr>\n",
       "    <tr>\n",
       "      <th>17</th>\n",
       "      <td>Transtornos mentales y del comportamiento</td>\n",
       "      <td>zapopan</td>\n",
       "      <td>36685</td>\n",
       "      <td>jalisco</td>\n",
       "    </tr>\n",
       "    <tr>\n",
       "      <th>7</th>\n",
       "      <td>Transtornos mentales y del comportamiento</td>\n",
       "      <td>puebla.1</td>\n",
       "      <td>22972</td>\n",
       "      <td>puebla</td>\n",
       "    </tr>\n",
       "    <tr>\n",
       "      <th>...</th>\n",
       "      <td>...</td>\n",
       "      <td>...</td>\n",
       "      <td>...</td>\n",
       "      <td>...</td>\n",
       "    </tr>\n",
       "    <tr>\n",
       "      <th>4</th>\n",
       "      <td>Ciertas enfermedades infecciosas y parasitarias</td>\n",
       "      <td>huatabampo</td>\n",
       "      <td>0</td>\n",
       "      <td>sonora</td>\n",
       "    </tr>\n",
       "    <tr>\n",
       "      <th>0</th>\n",
       "      <td>Ciertas enfermedades infecciosas y parasitarias</td>\n",
       "      <td>axochiapan</td>\n",
       "      <td>0</td>\n",
       "      <td>morelos</td>\n",
       "    </tr>\n",
       "    <tr>\n",
       "      <th>3</th>\n",
       "      <td>Ciertas enfermedades infecciosas y parasitarias</td>\n",
       "      <td>encarnación de díaz</td>\n",
       "      <td>0</td>\n",
       "      <td>jalisco</td>\n",
       "    </tr>\n",
       "    <tr>\n",
       "      <th>3</th>\n",
       "      <td>Ciertas enfermedades infecciosas y parasitarias</td>\n",
       "      <td>jiutepec</td>\n",
       "      <td>0</td>\n",
       "      <td>morelos</td>\n",
       "    </tr>\n",
       "    <tr>\n",
       "      <th>26</th>\n",
       "      <td>Ciertas enfermedades infecciosas y parasitarias</td>\n",
       "      <td>melchor ocampo</td>\n",
       "      <td>0</td>\n",
       "      <td>méxico</td>\n",
       "    </tr>\n",
       "  </tbody>\n",
       "</table>\n",
       "<p>376 rows × 4 columns</p>\n",
       "</div>"
      ],
      "text/plain": [
       "                                        enfermedades                  mun  \\\n",
       "4                  Enfermedades del ojo y sus anexos         cuauhtémoc.1   \n",
       "5                        Embarazo, parto y puerperio            monterrey   \n",
       "4                 Enfermedades del sistema digestivo          guadalajara   \n",
       "17         Transtornos mentales y del comportamiento              zapopan   \n",
       "7          Transtornos mentales y del comportamiento             puebla.1   \n",
       "..                                               ...                  ...   \n",
       "4    Ciertas enfermedades infecciosas y parasitarias           huatabampo   \n",
       "0    Ciertas enfermedades infecciosas y parasitarias           axochiapan   \n",
       "3    Ciertas enfermedades infecciosas y parasitarias  encarnación de díaz   \n",
       "3    Ciertas enfermedades infecciosas y parasitarias             jiutepec   \n",
       "26   Ciertas enfermedades infecciosas y parasitarias       melchor ocampo   \n",
       "\n",
       "    casos           entidad  \n",
       "4   97931  ciudad de méxico  \n",
       "5   42048        nuevo león  \n",
       "4   37920           jalisco  \n",
       "17  36685           jalisco  \n",
       "7   22972            puebla  \n",
       "..    ...               ...  \n",
       "4       0            sonora  \n",
       "0       0           morelos  \n",
       "3       0           jalisco  \n",
       "3       0           morelos  \n",
       "26      0            méxico  \n",
       "\n",
       "[376 rows x 4 columns]"
      ]
     },
     "execution_count": 12,
     "metadata": {},
     "output_type": "execute_result"
    }
   ],
   "source": [
    "enfermedades_estados = enfermedades_estados.sort_values(by=\"casos\", ascending=False)\n",
    "enfermedades_estados\n"
   ]
  },
  {
   "cell_type": "code",
   "execution_count": 38,
   "metadata": {},
   "outputs": [
    {
     "data": {
      "application/vnd.plotly.v1+json": {
       "config": {
        "plotlyServerURL": "https://plot.ly"
       },
       "data": [
        {
         "branchvalues": "total",
         "customdata": [
          [
           0
          ],
          [
           0
          ],
          [
           0
          ],
          [
           0
          ],
          [
           1504
          ],
          [
           0
          ],
          [
           0
          ],
          [
           0
          ],
          [
           0
          ],
          [
           0
          ],
          [
           0
          ],
          [
           0
          ],
          [
           0
          ],
          [
           0
          ],
          [
           0
          ],
          [
           0
          ],
          [
           0
          ],
          [
           0
          ],
          [
           0
          ],
          [
           0
          ],
          [
           0
          ],
          [
           0
          ],
          [
           0
          ],
          [
           0
          ],
          [
           0
          ],
          [
           0
          ],
          [
           0
          ],
          [
           0
          ],
          [
           0
          ],
          [
           0
          ],
          [
           0
          ],
          [
           0
          ],
          [
           0
          ],
          [
           0
          ],
          [
           0
          ],
          [
           0
          ],
          [
           0
          ],
          [
           0
          ],
          [
           459
          ],
          [
           0
          ],
          [
           0
          ],
          [
           0
          ],
          [
           0
          ],
          [
           0
          ],
          [
           2249
          ],
          [
           0
          ],
          [
           1757
          ],
          [
           3088
          ],
          [
           0
          ],
          [
           0
          ],
          [
           0
          ],
          [
           0
          ],
          [
           0
          ],
          [
           0
          ],
          [
           0
          ],
          [
           0
          ],
          [
           0
          ],
          [
           0
          ],
          [
           0
          ],
          [
           0
          ],
          [
           0
          ],
          [
           0
          ],
          [
           0
          ],
          [
           0
          ],
          [
           0
          ],
          [
           0
          ],
          [
           0
          ],
          [
           0
          ],
          [
           529
          ],
          [
           0
          ],
          [
           0
          ],
          [
           0
          ],
          [
           0
          ],
          [
           0
          ],
          [
           0
          ],
          [
           0
          ],
          [
           378
          ],
          [
           2369
          ],
          [
           4113
          ],
          [
           1670
          ],
          [
           2252
          ],
          [
           1524
          ],
          [
           528
          ],
          [
           97931
          ],
          [
           18474
          ],
          [
           871
          ],
          [
           1184
          ],
          [
           581
          ],
          [
           3255
          ],
          [
           451
          ],
          [
           1220
          ],
          [
           1199
          ],
          [
           5441
          ],
          [
           11570
          ],
          [
           1408
          ],
          [
           2214
          ],
          [
           5774
          ],
          [
           1393
          ],
          [
           1360
          ],
          [
           4904
          ],
          [
           1370
          ],
          [
           2180
          ],
          [
           37920
          ],
          [
           9913
          ],
          [
           5386
          ],
          [
           615
          ],
          [
           333
          ],
          [
           964
          ],
          [
           411
          ],
          [
           4331
          ],
          [
           1342
          ],
          [
           1656
          ],
          [
           483
          ],
          [
           4277
          ],
          [
           1106
          ],
          [
           396
          ],
          [
           10878
          ],
          [
           6952
          ],
          [
           917
          ],
          [
           572
          ],
          [
           10628
          ],
          [
           261
          ],
          [
           586
          ],
          [
           3864
          ],
          [
           4551
          ],
          [
           10785
          ],
          [
           17865
          ],
          [
           7811
          ],
          [
           764
          ],
          [
           10000
          ],
          [
           1356
          ],
          [
           1524
          ],
          [
           3683
          ],
          [
           4712
          ],
          [
           182
          ],
          [
           2096
          ],
          [
           834
          ],
          [
           1412
          ],
          [
           4913
          ],
          [
           3054
          ],
          [
           1352
          ],
          [
           428
          ],
          [
           333
          ],
          [
           609
          ],
          [
           13263
          ],
          [
           1557
          ],
          [
           141
          ],
          [
           668
          ],
          [
           1653
          ],
          [
           1514
          ],
          [
           859
          ],
          [
           2169
          ],
          [
           673
          ],
          [
           251
          ],
          [
           3434
          ],
          [
           728
          ],
          [
           719
          ],
          [
           3330
          ],
          [
           350
          ],
          [
           1021
          ],
          [
           1205
          ],
          [
           381
          ],
          [
           12774
          ],
          [
           343
          ],
          [
           1472
          ],
          [
           863
          ],
          [
           4080
          ],
          [
           251
          ],
          [
           4043
          ],
          [
           1124
          ],
          [
           479
          ],
          [
           2440
          ],
          [
           3488
          ],
          [
           218
          ],
          [
           871
          ],
          [
           28
          ],
          [
           3079
          ],
          [
           495
          ],
          [
           228
          ],
          [
           502
          ],
          [
           420
          ],
          [
           223
          ],
          [
           160
          ],
          [
           145
          ],
          [
           2187
          ],
          [
           918
          ],
          [
           1333
          ],
          [
           11
          ],
          [
           897
          ],
          [
           15414
          ],
          [
           1160
          ],
          [
           2181
          ],
          [
           4724
          ],
          [
           943
          ],
          [
           1793
          ],
          [
           7452
          ],
          [
           1330
          ],
          [
           933
          ],
          [
           11942
          ],
          [
           4175
          ],
          [
           2207
          ],
          [
           4333
          ],
          [
           22972
          ],
          [
           20192
          ],
          [
           17173
          ],
          [
           18482
          ],
          [
           36685
          ],
          [
           2437
          ],
          [
           6985
          ],
          [
           524
          ],
          [
           453
          ],
          [
           521
          ],
          [
           585
          ],
          [
           1211
          ],
          [
           1389
          ],
          [
           131
          ],
          [
           211
          ],
          [
           452
          ],
          [
           491
          ],
          [
           544
          ],
          [
           2514
          ],
          [
           1213
          ],
          [
           2711
          ],
          [
           2552
          ],
          [
           605
          ],
          [
           908
          ],
          [
           2458
          ],
          [
           953
          ],
          [
           438
          ],
          [
           404
          ],
          [
           1878
          ],
          [
           1885
          ],
          [
           325
          ],
          [
           655
          ],
          [
           1045
          ],
          [
           2152
          ],
          [
           4642
          ],
          [
           1134
          ],
          [
           5317
          ],
          [
           4837
          ],
          [
           217
          ],
          [
           1549
          ],
          [
           4600
          ],
          [
           1190
          ],
          [
           1223
          ],
          [
           8125
          ],
          [
           9288
          ],
          [
           571
          ],
          [
           1128
          ],
          [
           902
          ],
          [
           1218
          ],
          [
           482
          ],
          [
           973
          ],
          [
           536
          ],
          [
           4296
          ],
          [
           1647
          ],
          [
           360
          ],
          [
           292
          ],
          [
           1026
          ],
          [
           764
          ],
          [
           477
          ],
          [
           315
          ],
          [
           5637
          ],
          [
           457
          ],
          [
           2137
          ],
          [
           1137
          ],
          [
           42048
          ],
          [
           1315
          ],
          [
           5214
          ],
          [
           1087
          ],
          [
           1831
          ],
          [
           827
          ],
          [
           269
          ],
          [
           3091
          ],
          [
           4477
          ],
          [
           5302
          ],
          [
           5138
          ],
          [
           1691
          ],
          [
           1508
          ],
          [
           891
          ],
          [
           590
          ],
          [
           1516
          ],
          [
           3449
          ],
          [
           123
          ],
          [
           1623
          ],
          [
           1827
          ],
          [
           304
          ],
          [
           370
          ],
          [
           451
          ],
          [
           149
          ],
          [
           405
          ],
          [
           328
          ],
          [
           548
          ],
          [
           1943
          ],
          [
           7948
          ],
          [
           1037
          ],
          [
           1151
          ],
          [
           2520
          ],
          [
           3185
          ],
          [
           10023
          ],
          [
           419
          ],
          [
           679
          ],
          [
           2742
          ],
          [
           522
          ],
          [
           15682
          ],
          [
           2646
          ],
          [
           422
          ],
          [
           8236
          ],
          [
           6183
          ],
          [
           312
          ],
          [
           1234
          ],
          [
           6368
          ],
          [
           596
          ],
          [
           3329
          ],
          [
           214
          ],
          [
           385
          ],
          [
           2140
          ],
          [
           1075
          ],
          [
           1848
          ],
          [
           1730
          ],
          [
           374
          ],
          [
           370
          ],
          [
           1227
          ],
          [
           573
          ],
          [
           403
          ],
          [
           443
          ],
          [
           1114
          ],
          [
           840
          ],
          [
           4230
          ],
          [
           483
          ],
          [
           9438
          ],
          [
           1011
          ],
          [
           3597
          ],
          [
           3536
          ],
          [
           1793
          ],
          [
           1824
          ],
          [
           841
          ],
          [
           484
          ],
          [
           383
          ],
          [
           488
          ],
          [
           277
          ],
          [
           847
          ],
          [
           752
          ],
          [
           156
          ],
          [
           1121
          ],
          [
           1124
          ],
          [
           841
          ],
          [
           7535
          ],
          [
           206
          ],
          [
           615
          ],
          [
           397
          ],
          [
           582
          ],
          [
           7130
          ],
          [
           11290
          ],
          [
           4310
          ],
          [
           1495
          ],
          [
           3130
          ],
          [
           511
          ],
          [
           624
          ],
          [
           1656
          ],
          [
           354
          ],
          [
           2256
          ],
          [
           3176
          ],
          [
           530
          ],
          [
           1542
          ],
          [
           533
          ],
          [
           2423
          ],
          [
           245
          ],
          [
           2797
          ],
          [
           120
          ],
          [
           1209
          ],
          [
           8608
          ],
          [
           47
          ],
          [
           3484
          ],
          [
           416
          ],
          [
           1061
          ],
          [
           524
          ],
          [
           0
          ],
          [
           4175
          ],
          [
           453
          ],
          [
           521
          ],
          [
           871
          ],
          [
           585
          ],
          [
           1211
          ],
          [
           1389
          ],
          [
           1184
          ],
          [
           581
          ],
          [
           11290
          ],
          [
           3255
          ],
          [
           0
          ],
          [
           0
          ],
          [
           131
          ],
          [
           211
          ],
          [
           0
          ],
          [
           452
          ],
          [
           491
          ],
          [
           451
          ],
          [
           544
          ],
          [
           1220
          ],
          [
           2514
          ],
          [
           1213
          ],
          [
           1504
          ],
          [
           2711
          ],
          [
           2552
          ],
          [
           605
          ],
          [
           223
          ],
          [
           0
          ],
          [
           0
          ],
          [
           1199
          ],
          [
           1124
          ],
          [
           15414
          ],
          [
           4310
          ],
          [
           2207
          ],
          [
           1160
          ],
          [
           0
          ],
          [
           908
          ],
          [
           2458
          ],
          [
           0
          ],
          [
           0
          ],
          [
           160
          ],
          [
           0
          ],
          [
           2181
          ],
          [
           953
          ],
          [
           1495
          ],
          [
           5441
          ],
          [
           4724
          ],
          [
           145
          ],
          [
           3130
          ],
          [
           511
          ],
          [
           0
          ],
          [
           438
          ],
          [
           404
          ],
          [
           11570
          ],
          [
           0
          ],
          [
           1408
          ],
          [
           1878
          ],
          [
           0
          ],
          [
           1885
          ],
          [
           2187
          ],
          [
           325
          ],
          [
           655
          ],
          [
           2214
          ],
          [
           1045
          ],
          [
           2152
          ],
          [
           4642
          ],
          [
           1134
          ],
          [
           7130
          ],
          [
           624
          ],
          [
           5774
          ],
          [
           1656
          ],
          [
           97931
          ],
          [
           1393
          ],
          [
           5317
          ],
          [
           1360
          ],
          [
           18474
          ],
          [
           0
          ],
          [
           4837
          ],
          [
           217
          ],
          [
           1549
          ],
          [
           4600
          ],
          [
           1190
          ],
          [
           1223
          ],
          [
           4904
          ],
          [
           8125
          ],
          [
           0
          ],
          [
           0
          ],
          [
           0
          ],
          [
           1370
          ],
          [
           378
          ],
          [
           0
          ],
          [
           2180
          ],
          [
           37920
          ],
          [
           9288
          ],
          [
           2369
          ],
          [
           0
          ],
          [
           502
          ],
          [
           9913
          ],
          [
           5386
          ],
          [
           615
          ],
          [
           571
          ],
          [
           0
          ],
          [
           1128
          ],
          [
           902
          ],
          [
           0
          ],
          [
           0
          ],
          [
           0
          ],
          [
           333
          ],
          [
           1218
          ],
          [
           964
          ],
          [
           482
          ],
          [
           411
          ],
          [
           4331
          ],
          [
           1342
          ],
          [
           4113
          ],
          [
           0
          ],
          [
           973
          ],
          [
           1656
          ],
          [
           483
          ],
          [
           536
          ],
          [
           0
          ],
          [
           4277
          ],
          [
           4296
          ],
          [
           1647
          ],
          [
           354
          ],
          [
           0
          ],
          [
           1106
          ],
          [
           0
          ],
          [
           0
          ],
          [
           0
          ],
          [
           360
          ],
          [
           0
          ],
          [
           0
          ],
          [
           396
          ],
          [
           918
          ],
          [
           10878
          ],
          [
           6952
          ],
          [
           943
          ],
          [
           917
          ],
          [
           1793
          ],
          [
           572
          ],
          [
           292
          ],
          [
           0
          ],
          [
           10628
          ],
          [
           0
          ],
          [
           0
          ],
          [
           1026
          ],
          [
           764
          ],
          [
           0
          ],
          [
           0
          ],
          [
           0
          ],
          [
           261
          ],
          [
           459
          ],
          [
           586
          ],
          [
           477
          ],
          [
           841
          ],
          [
           3864
          ],
          [
           0
          ],
          [
           315
          ],
          [
           5637
          ],
          [
           0
          ],
          [
           4551
          ],
          [
           10785
          ],
          [
           0
          ],
          [
           17865
          ],
          [
           0
          ],
          [
           1333
          ],
          [
           457
          ],
          [
           2137
          ],
          [
           1137
          ],
          [
           42048
          ],
          [
           7452
          ],
          [
           1315
          ],
          [
           7811
          ],
          [
           764
          ],
          [
           10000
          ],
          [
           0
          ],
          [
           5214
          ],
          [
           7535
          ],
          [
           1356
          ],
          [
           1524
          ],
          [
           3683
          ],
          [
           4712
          ],
          [
           2256
          ],
          [
           182
          ],
          [
           1087
          ],
          [
           4333
          ],
          [
           1831
          ],
          [
           827
          ],
          [
           269
          ],
          [
           3091
          ],
          [
           2249
          ],
          [
           4477
          ],
          [
           5302
          ],
          [
           3176
          ],
          [
           2096
          ],
          [
           5138
          ],
          [
           1691
          ],
          [
           0
          ],
          [
           1757
          ],
          [
           1508
          ],
          [
           530
          ],
          [
           891
          ],
          [
           11
          ],
          [
           1542
          ],
          [
           834
          ],
          [
           590
          ],
          [
           1516
          ],
          [
           3449
          ],
          [
           123
          ],
          [
           533
          ],
          [
           1412
          ],
          [
           1623
          ],
          [
           1330
          ],
          [
           1827
          ],
          [
           3088
          ],
          [
           304
          ],
          [
           1670
          ],
          [
           370
          ],
          [
           451
          ],
          [
           4913
          ],
          [
           0
          ],
          [
           0
          ],
          [
           149
          ],
          [
           0
          ],
          [
           2423
          ],
          [
           405
          ],
          [
           2437
          ],
          [
           3054
          ],
          [
           328
          ],
          [
           22972
          ],
          [
           0
          ],
          [
           206
          ],
          [
           245
          ],
          [
           2797
          ],
          [
           1352
          ],
          [
           428
          ],
          [
           548
          ],
          [
           333
          ],
          [
           609
          ],
          [
           1943
          ],
          [
           13263
          ],
          [
           0
          ],
          [
           7948
          ],
          [
           1557
          ],
          [
           1037
          ],
          [
           0
          ],
          [
           1151
          ],
          [
           2520
          ],
          [
           3185
          ],
          [
           141
          ],
          [
           10023
          ],
          [
           419
          ],
          [
           668
          ],
          [
           0
          ],
          [
           1653
          ],
          [
           679
          ],
          [
           2742
          ],
          [
           1514
          ],
          [
           522
          ],
          [
           859
          ],
          [
           2252
          ],
          [
           2169
          ],
          [
           120
          ],
          [
           673
          ],
          [
           15682
          ],
          [
           1209
          ],
          [
           2646
          ],
          [
           251
          ],
          [
           0
          ],
          [
           3434
          ],
          [
           422
          ],
          [
           8236
          ],
          [
           897
          ],
          [
           6183
          ],
          [
           0
          ],
          [
           0
          ],
          [
           0
          ],
          [
           728
          ],
          [
           312
          ],
          [
           0
          ],
          [
           719
          ],
          [
           1234
          ],
          [
           0
          ],
          [
           6368
          ],
          [
           3330
          ],
          [
           596
          ],
          [
           0
          ],
          [
           3329
          ],
          [
           214
          ],
          [
           933
          ],
          [
           385
          ],
          [
           2140
          ],
          [
           615
          ],
          [
           350
          ],
          [
           1075
          ],
          [
           0
          ],
          [
           1848
          ],
          [
           1730
          ],
          [
           0
          ],
          [
           374
          ],
          [
           370
          ],
          [
           11942
          ],
          [
           1227
          ],
          [
           573
          ],
          [
           403
          ],
          [
           0
          ],
          [
           0
          ],
          [
           1021
          ],
          [
           8608
          ],
          [
           1205
          ],
          [
           443
          ],
          [
           1114
          ],
          [
           381
          ],
          [
           20192
          ],
          [
           840
          ],
          [
           397
          ],
          [
           0
          ],
          [
           1524
          ],
          [
           4230
          ],
          [
           12774
          ],
          [
           343
          ],
          [
           420
          ],
          [
           0
          ],
          [
           1472
          ],
          [
           483
          ],
          [
           17173
          ],
          [
           9438
          ],
          [
           47
          ],
          [
           1011
          ],
          [
           18482
          ],
          [
           528
          ],
          [
           3597
          ],
          [
           3536
          ],
          [
           863
          ],
          [
           4080
          ],
          [
           529
          ],
          [
           251
          ],
          [
           4043
          ],
          [
           0
          ],
          [
           0
          ],
          [
           1793
          ],
          [
           1124
          ],
          [
           479
          ],
          [
           2440
          ],
          [
           3488
          ],
          [
           1824
          ],
          [
           0
          ],
          [
           841
          ],
          [
           0
          ],
          [
           3484
          ],
          [
           484
          ],
          [
           383
          ],
          [
           488
          ],
          [
           218
          ],
          [
           871
          ],
          [
           28
          ],
          [
           277
          ],
          [
           847
          ],
          [
           416
          ],
          [
           752
          ],
          [
           3079
          ],
          [
           36685
          ],
          [
           1061
          ],
          [
           156
          ],
          [
           0
          ],
          [
           495
          ],
          [
           0
          ],
          [
           228
          ],
          [
           1121
          ],
          [
           582
          ],
          [
           0
          ],
          [
           6985
          ],
          [
           12117
          ],
          [
           35267
          ],
          [
           1969
          ],
          [
           3799
          ],
          [
           14335
          ],
          [
           29906
          ],
          [
           210915
          ],
          [
           37228
          ],
          [
           5063
          ],
          [
           6574
          ],
          [
           42205
          ],
          [
           15713
          ],
          [
           16576
          ],
          [
           110758
          ],
          [
           29239
          ],
          [
           20682
          ],
          [
           111397
          ],
          [
           3220
          ],
          [
           72703
          ],
          [
           11477
          ],
          [
           40858
          ],
          [
           22814
          ],
          [
           8529
          ],
          [
           20160
          ],
          [
           15039
          ],
          [
           14198
          ],
          [
           8518
          ],
          [
           25953
          ],
          [
           6346
          ],
          [
           30927
          ],
          [
           8741
          ],
          [
           8008
          ]
         ],
         "domain": {
          "x": [
           0,
           1
          ],
          "y": [
           0,
           1
          ]
         },
         "hovertemplate": "<b>%{label}</b><br>Casos: %{customdata[0]:,}<extra></extra>",
         "ids": [
          "méxico/acambay de ruíz castañeda/ Ciertas enfermedades infecciosas y parasitarias",
          "san luis potosí/ahualulco/ Ciertas enfermedades infecciosas y parasitarias",
          "guerrero/ajuchitlán del progreso/ Ciertas enfermedades infecciosas y parasitarias",
          "méxico/amecameca/ Ciertas enfermedades infecciosas y parasitarias",
          "guerrero/arcelia/ Ciertas enfermedades infecciosas y parasitarias",
          "jalisco/autlán de navarro/ Ciertas enfermedades infecciosas y parasitarias",
          "morelos/axochiapan/ Ciertas enfermedades infecciosas y parasitarias",
          "querétaro arteaga/cadereyta de montes/ Ciertas enfermedades infecciosas y parasitarias",
          "méxico/calimaya/ Ciertas enfermedades infecciosas y parasitarias",
          "tlaxcala/calpulalpan/ Ciertas enfermedades infecciosas y parasitarias",
          "veracruz de ignacio de la llave/camerino z. mendoza/ Ciertas enfermedades infecciosas y parasitarias",
          "tlaxcala/chiautempan/ Ciertas enfermedades infecciosas y parasitarias",
          "guerrero/chilapa de álvarez/ Ciertas enfermedades infecciosas y parasitarias",
          "oaxaca/ciudad ixtepec/ Ciertas enfermedades infecciosas y parasitarias",
          "veracruz de ignacio de la llave/cuitláhuac/ Ciertas enfermedades infecciosas y parasitarias",
          "méxico/el oro/ Ciertas enfermedades infecciosas y parasitarias",
          "tabasco/emiliano zapata/ Ciertas enfermedades infecciosas y parasitarias",
          "jalisco/encarnación de díaz/ Ciertas enfermedades infecciosas y parasitarias",
          "querétaro arteaga/ezequiel montes/ Ciertas enfermedades infecciosas y parasitarias",
          "guanajuato/guanajuato.1/ Ciertas enfermedades infecciosas y parasitarias",
          "oaxaca/heroica ciudad de tlaxiaco/ Ciertas enfermedades infecciosas y parasitarias",
          "guanajuato/huanímaro/ Ciertas enfermedades infecciosas y parasitarias",
          "sonora/huatabampo/ Ciertas enfermedades infecciosas y parasitarias",
          "veracruz de ignacio de la llave/huatusco/ Ciertas enfermedades infecciosas y parasitarias",
          "veracruz de ignacio de la llave/isla/ Ciertas enfermedades infecciosas y parasitarias",
          "nayarit/ixtlán del río/ Ciertas enfermedades infecciosas y parasitarias",
          "querétaro arteaga/jalpan de serra/ Ciertas enfermedades infecciosas y parasitarias",
          "méxico/jilotepec/ Ciertas enfermedades infecciosas y parasitarias",
          "michoacán de ocampo/jiménez/ Ciertas enfermedades infecciosas y parasitarias",
          "michoacán de ocampo/jiquilpan/ Ciertas enfermedades infecciosas y parasitarias",
          "morelos/jiutepec/ Ciertas enfermedades infecciosas y parasitarias",
          "jalisco/jocotepec/ Ciertas enfermedades infecciosas y parasitarias",
          "méxico/lerma/ Ciertas enfermedades infecciosas y parasitarias",
          "nuevo león/linares/ Ciertas enfermedades infecciosas y parasitarias",
          "oaxaca/loma bonita/ Ciertas enfermedades infecciosas y parasitarias",
          "michoacán de ocampo/lázaro cárdenas/ Ciertas enfermedades infecciosas y parasitarias",
          "tabasco/macuspana/ Ciertas enfermedades infecciosas y parasitarias",
          "chihuahua/madera/ Ciertas enfermedades infecciosas y parasitarias",
          "guanajuato/manuel doblado/ Ciertas enfermedades infecciosas y parasitarias",
          "san luis potosí/matehuala/ Ciertas enfermedades infecciosas y parasitarias",
          "méxico/melchor ocampo/ Ciertas enfermedades infecciosas y parasitarias",
          "tamaulipas/miguel alemán/ Ciertas enfermedades infecciosas y parasitarias",
          "ciudad de méxico/milpa alta/ Ciertas enfermedades infecciosas y parasitarias",
          "sonora/navojoa/ Ciertas enfermedades infecciosas y parasitarias",
          "guerrero/otros municipios.11/ Ciertas enfermedades infecciosas y parasitarias",
          "baja california sur/otros municipios.2/ Ciertas enfermedades infecciosas y parasitarias",
          "puebla/otros municipios.20/ Ciertas enfermedades infecciosas y parasitarias",
          "chihuahua/otros municipios.7/ Ciertas enfermedades infecciosas y parasitarias",
          "chiapas/palenque/ Ciertas enfermedades infecciosas y parasitarias",
          "veracruz de ignacio de la llave/papantla/ Ciertas enfermedades infecciosas y parasitarias",
          "veracruz de ignacio de la llave/perote/ Ciertas enfermedades infecciosas y parasitarias",
          "guanajuato/pueblo nuevo/ Ciertas enfermedades infecciosas y parasitarias",
          "michoacán de ocampo/quiroga/ Ciertas enfermedades infecciosas y parasitarias",
          "zacatecas/río grande/ Ciertas enfermedades infecciosas y parasitarias",
          "veracruz de ignacio de la llave/san andrés tuxtla/ Ciertas enfermedades infecciosas y parasitarias",
          "guanajuato/san miguel de allende/ Ciertas enfermedades infecciosas y parasitarias",
          "guanajuato/santa cruz de juventino rosas/ Ciertas enfermedades infecciosas y parasitarias",
          "oaxaca/santa maría huatulco/ Ciertas enfermedades infecciosas y parasitarias",
          "durango/santiago papasquiaro/ Ciertas enfermedades infecciosas y parasitarias",
          "oaxaca/santo domingo tehuantepec/ Ciertas enfermedades infecciosas y parasitarias",
          "michoacán de ocampo/tacámbaro/ Ciertas enfermedades infecciosas y parasitarias",
          "guerrero/taxco de alarcón/ Ciertas enfermedades infecciosas y parasitarias",
          "morelos/temixco/ Ciertas enfermedades infecciosas y parasitarias",
          "jalisco/teocaltiche/ Ciertas enfermedades infecciosas y parasitarias",
          "méxico/tepetlixpa/ Ciertas enfermedades infecciosas y parasitarias",
          "nayarit/tepic/ Ciertas enfermedades infecciosas y parasitarias",
          "oaxaca/tlacolula de matamoros/ Ciertas enfermedades infecciosas y parasitarias",
          "guerrero/tlapehuala/ Ciertas enfermedades infecciosas y parasitarias",
          "guerrero/técpan de galeana/ Ciertas enfermedades infecciosas y parasitarias",
          "yucatán/valladolid/ Ciertas enfermedades infecciosas y parasitarias",
          "méxico/valle de bravo/ Ciertas enfermedades infecciosas y parasitarias",
          "méxico/villa victoria/ Ciertas enfermedades infecciosas y parasitarias",
          "guanajuato/villagrán/ Ciertas enfermedades infecciosas y parasitarias",
          "hidalgo/zimapán/ Ciertas enfermedades infecciosas y parasitarias",
          "méxico/zinacantepec/ Ciertas enfermedades infecciosas y parasitarias",
          "veracruz de ignacio de la llave/álamo temapache/ Ciertas enfermedades infecciosas y parasitarias",
          "sinaloa/escuinapa/ Enfermedades del aparato circulatorio",
          "zacatecas/guadalupe.1/ Enfermedades del aparato circulatorio",
          "guanajuato/irapuato/ Enfermedades del aparato circulatorio",
          "durango/otros municipios.9/ Enfermedades del aparato circulatorio",
          "jalisco/san juan de los lagos/ Enfermedades del aparato circulatorio",
          "jalisco/tlajomulco de zúñiga/ Enfermedades del aparato circulatorio",
          "hidalgo/tula de allende/ Enfermedades del aparato circulatorio",
          "ciudad de méxico/cuauhtémoc.1/ Enfermedades del ojo y sus anexos",
          "morelos/cuernavaca/ Enfermedades del ojo y sus anexos",
          "veracruz de ignacio de la llave/acayucan/ Enfermedades del sistema digestivo",
          "guanajuato/acámbaro/ Enfermedades del sistema digestivo",
          "sonora/agua prieta/ Enfermedades del sistema digestivo",
          "sinaloa/ahome/ Enfermedades del sistema digestivo",
          "guanajuato/apaseo el grande/ Enfermedades del sistema digestivo",
          "tlaxcala/apizaco/ Enfermedades del sistema digestivo",
          "ciudad de méxico/azcapotzalco/ Enfermedades del sistema digestivo",
          "guanajuato/celaya/ Enfermedades del sistema digestivo",
          "chihuahua/chihuahua.1/ Enfermedades del sistema digestivo",
          "guerrero/chilpancingo de los bravo/ Enfermedades del sistema digestivo",
          "colima/colima.1/ Enfermedades del sistema digestivo",
          "ciudad de méxico/cuajimalpa de morelos/ Enfermedades del sistema digestivo",
          "méxico/cuautitlán/ Enfermedades del sistema digestivo",
          "morelos/cuautla/ Enfermedades del sistema digestivo",
          "durango/durango.1/ Enfermedades del sistema digestivo",
          "baja california/ensenada/ Enfermedades del sistema digestivo",
          "zacatecas/fresnillo/ Enfermedades del sistema digestivo",
          "jalisco/guadalajara/ Enfermedades del sistema digestivo",
          "ciudad de méxico/gustavo a. madero/ Enfermedades del sistema digestivo",
          "sonora/hermosillo/ Enfermedades del sistema digestivo",
          "oaxaca/heroica ciudad de huajuapan de león/ Enfermedades del sistema digestivo",
          "puebla/huauchinango/ Enfermedades del sistema digestivo",
          "hidalgo/huejutla de reyes/ Enfermedades del sistema digestivo",
          "hidalgo/huichapan/ Enfermedades del sistema digestivo",
          "méxico/huixquilucan/ Enfermedades del sistema digestivo",
          "guerrero/iguala de la independencia/ Enfermedades del sistema digestivo",
          "méxico/ixtapaluca/ Enfermedades del sistema digestivo",
          "méxico/ixtapan de la sal/ Enfermedades del sistema digestivo",
          "ciudad de méxico/iztacalco/ Enfermedades del sistema digestivo",
          "zacatecas/jerez/ Enfermedades del sistema digestivo",
          "morelos/jojutla/ Enfermedades del sistema digestivo",
          "chihuahua/juárez/ Enfermedades del sistema digestivo",
          "ciudad de méxico/la magdalena contreras/ Enfermedades del sistema digestivo",
          "méxico/la paz.1/ Enfermedades del sistema digestivo",
          "jalisco/lagos de moreno/ Enfermedades del sistema digestivo",
          "guanajuato/león/ Enfermedades del sistema digestivo",
          "sonora/magdalena/ Enfermedades del sistema digestivo",
          "colima/manzanillo/ Enfermedades del sistema digestivo",
          "tamaulipas/matamoros/ Enfermedades del sistema digestivo",
          "méxico/metepec/ Enfermedades del sistema digestivo",
          "baja california/mexicali/ Enfermedades del sistema digestivo",
          "ciudad de méxico/miguel hidalgo/ Enfermedades del sistema digestivo",
          "yucatán/mérida/ Enfermedades del sistema digestivo",
          "veracruz de ignacio de la llave/naranjos amatlán/ Enfermedades del sistema digestivo",
          "méxico/naucalpan de juárez/ Enfermedades del sistema digestivo",
          "sonora/nogales/ Enfermedades del sistema digestivo",
          "chihuahua/nuevo casas grandes/ Enfermedades del sistema digestivo",
          "tamaulipas/nuevo laredo/ Enfermedades del sistema digestivo",
          "oaxaca/oaxaca de juárez/ Enfermedades del sistema digestivo",
          "zacatecas/ojocaliente/ Enfermedades del sistema digestivo",
          "nayarit/otros municipios.17/ Enfermedades del sistema digestivo",
          "tabasco/otros municipios.26/ Enfermedades del sistema digestivo",
          "zacatecas/otros municipios.31/ Enfermedades del sistema digestivo",
          "hidalgo/pachuca de soto/ Enfermedades del sistema digestivo",
          "veracruz de ignacio de la llave/poza rica de hidalgo/ Enfermedades del sistema digestivo",
          "guerrero/pungarabato/ Enfermedades del sistema digestivo",
          "michoacán de ocampo/puruándiro/ Enfermedades del sistema digestivo",
          "oaxaca/putla villa de guerrero/ Enfermedades del sistema digestivo",
          "michoacán de ocampo/pátzcuaro/ Enfermedades del sistema digestivo",
          "querétaro arteaga/querétaro/ Enfermedades del sistema digestivo",
          "san luis potosí/rioverde/ Enfermedades del sistema digestivo",
          "oaxaca/salina cruz/ Enfermedades del sistema digestivo",
          "guanajuato/salvatierra/ Enfermedades del sistema digestivo",
          "chiapas/san cristóbal de las casas/ Enfermedades del sistema digestivo",
          "guanajuato/san francisco del rincón/ Enfermedades del sistema digestivo",
          "oaxaca/san juan bautista tuxtepec/ Enfermedades del sistema digestivo",
          "querétaro arteaga/san juan del río/ Enfermedades del sistema digestivo",
          "guanajuato/san luis de la paz/ Enfermedades del sistema digestivo",
          "méxico/san mateo atenco/ Enfermedades del sistema digestivo",
          "nuevo león/san nicolás de los garza/ Enfermedades del sistema digestivo",
          "oaxaca/santiago pinotepa nacional/ Enfermedades del sistema digestivo",
          "guanajuato/silao de la victoria/ Enfermedades del sistema digestivo",
          "chiapas/tapachula/ Enfermedades del sistema digestivo",
          "guerrero/teloloapan/ Enfermedades del sistema digestivo",
          "querétaro arteaga/tequisquiapan/ Enfermedades del sistema digestivo",
          "puebla/teziutlán/ Enfermedades del sistema digestivo",
          "veracruz de ignacio de la llave/tierra blanca/ Enfermedades del sistema digestivo",
          "ciudad de méxico/tlalpan/ Enfermedades del sistema digestivo",
          "zacatecas/tlaltenango de sánchez román/ Enfermedades del sistema digestivo",
          "tlaxcala/tlaxcala.1/ Enfermedades del sistema digestivo",
          "veracruz de ignacio de la llave/tuxpan/ Enfermedades del sistema digestivo",
          "chiapas/tuxtla gutiérrez/ Enfermedades del sistema digestivo",
          "guanajuato/uriangato/ Enfermedades del sistema digestivo",
          "michoacán de ocampo/uruapan/ Enfermedades del sistema digestivo",
          "guanajuato/valle de santiago/ Enfermedades del sistema digestivo",
          "tamaulipas/valle hermoso/ Enfermedades del sistema digestivo",
          "ciudad de méxico/venustiano carranza/ Enfermedades del sistema digestivo",
          "veracruz de ignacio de la llave/veracruz/ Enfermedades del sistema digestivo",
          "morelos/xochitepec/ Enfermedades del sistema digestivo",
          "méxico/xonacatlán/ Enfermedades del sistema digestivo",
          "morelos/yautepec/ Enfermedades del sistema digestivo",
          "michoacán de ocampo/zamora/ Enfermedades del sistema digestivo",
          "oaxaca/zimatlán de álvarez/ Enfermedades del sistema digestivo",
          "michoacán de ocampo/zinapécuaro/ Enfermedades del sistema digestivo",
          "sinaloa/guasave/ Enfermedades del sistema genitourinario",
          "guerrero/tlapa de comonfort/ Enfermedades del sistema genitourinario",
          "guerrero/atoyac de álvarez/ Enfermedades del sistema respiratorio",
          "tamaulipas/camargo/ Enfermedades del sistema respiratorio",
          "san luis potosí/cerritos/ Enfermedades del sistema respiratorio",
          "méxico/coacalco de berriozábal/ Enfermedades del sistema respiratorio",
          "guerrero/juan r. escudero/ Enfermedades del sistema respiratorio",
          "veracruz de ignacio de la llave/minatitlán/ Enfermedades del sistema respiratorio",
          "sinaloa/otros municipios.24/ Enfermedades del sistema respiratorio",
          "oaxaca/san pedro mixtepec/ Enfermedades del sistema respiratorio",
          "ciudad de méxico/benito juárez/ Factores que influyen en el estado de salud y contacto con los servicios de salud",
          "sonora/caborca/ Factores que influyen en el estado de salud y contacto con los servicios de salud",
          "campeche/campeche.1/ Factores que influyen en el estado de salud y contacto con los servicios de salud",
          "tabasco/centro/ Factores que influyen en el estado de salud y contacto con los servicios de salud",
          "baja california sur/la paz/ Factores que influyen en el estado de salud y contacto con los servicios de salud",
          "michoacán de ocampo/la piedad/ Factores que influyen en el estado de salud y contacto con los servicios de salud",
          "michoacán de ocampo/morelia/ Factores que influyen en el estado de salud y contacto con los servicios de salud",
          "colima/otros municipios.5/ Factores que influyen en el estado de salud y contacto con los servicios de salud",
          "colima/tecomán/ Factores que influyen en el estado de salud y contacto con los servicios de salud",
          "jalisco/tepatitlán de morelos/ Factores que influyen en el estado de salud y contacto con los servicios de salud",
          "guerrero/acapulco de juárez/ Transtornos mentales y del comportamiento",
          "veracruz de ignacio de la llave/boca del río/ Transtornos mentales y del comportamiento",
          "veracruz de ignacio de la llave/orizaba/ Transtornos mentales y del comportamiento",
          "puebla/puebla.1/ Transtornos mentales y del comportamiento",
          "baja california/tijuana/ Transtornos mentales y del comportamiento",
          "ciudad de méxico/tláhuac/ Transtornos mentales y del comportamiento",
          "coahuila de zaragoza/torreón/ Transtornos mentales y del comportamiento",
          "jalisco/zapopan/ Transtornos mentales y del comportamiento",
          "baja california/playas de rosarito/ Tumores [NEOPLASIAS]",
          "ciudad de méxico/álvaro obregón/ Tumores [NEOPLASIAS]",
          "guanajuato/abasolo/Embarazo, parto y puerperio",
          "puebla/acatlán/Embarazo, parto y puerperio",
          "puebla/acatzingo/Embarazo, parto y puerperio",
          "méxico/acolman/Embarazo, parto y puerperio",
          "hidalgo/actopan/Embarazo, parto y puerperio",
          "coahuila de zaragoza/acuña/Embarazo, parto y puerperio",
          "méxico/almoloya de juárez/Embarazo, parto y puerperio",
          "querétaro arteaga/amealco de bonfil/Embarazo, parto y puerperio",
          "hidalgo/apan/Embarazo, parto y puerperio",
          "guanajuato/apaseo el alto/Embarazo, parto y puerperio",
          "michoacán de ocampo/apatzingán/Embarazo, parto y puerperio",
          "nuevo león/apodaca/Embarazo, parto y puerperio",
          "jalisco/arandas/Embarazo, parto y puerperio",
          "méxico/atizapán de zaragoza/Embarazo, parto y puerperio",
          "méxico/atlacomulco/Embarazo, parto y puerperio",
          "puebla/atlixco/Embarazo, parto y puerperio",
          "nuevo león/cadereyta jiménez/Embarazo, parto y puerperio",
          "sonora/cajeme/Embarazo, parto y puerperio",
          "méxico/capulhuac/Embarazo, parto y puerperio",
          "méxico/chicoloapan/Embarazo, parto y puerperio",
          "méxico/chiconcuac/Embarazo, parto y puerperio",
          "méxico/chimalhuacán/Embarazo, parto y puerperio",
          "san luis potosí/ciudad valles/Embarazo, parto y puerperio",
          "méxico/coatepec harinas/Embarazo, parto y puerperio",
          "veracruz de ignacio de la llave/coatzacoalcos/Embarazo, parto y puerperio",
          "tabasco/comalcalco/Embarazo, parto y puerperio",
          "chiapas/comitán de domínguez/Embarazo, parto y puerperio",
          "querétaro arteaga/corregidora/Embarazo, parto y puerperio",
          "guanajuato/cortazar/Embarazo, parto y puerperio",
          "méxico/cuautitlán izcalli/Embarazo, parto y puerperio",
          "sinaloa/culiacán/Embarazo, parto y puerperio",
          "tabasco/cunduacán/Embarazo, parto y puerperio",
          "tabasco/cárdenas/Embarazo, parto y puerperio",
          "veracruz de ignacio de la llave/córdoba/Embarazo, parto y puerperio",
          "chihuahua/delicias/Embarazo, parto y puerperio",
          "guanajuato/dolores hidalgo cuna de la independencia nacional/Embarazo, parto y puerperio",
          "méxico/ecatepec de morelos/Embarazo, parto y puerperio",
          "nuevo león/guadalupe/Embarazo, parto y puerperio",
          "oaxaca/heroica ciudad de juchitán de zaragoza/Embarazo, parto y puerperio",
          "michoacán de ocampo/hidalgo.1/Embarazo, parto y puerperio",
          "tlaxcala/huamantla/Embarazo, parto y puerperio",
          "puebla/huejotzingo/Embarazo, parto y puerperio",
          "michoacán de ocampo/huetamo/Embarazo, parto y puerperio",
          "hidalgo/ixmiquilpan/Embarazo, parto y puerperio",
          "méxico/ixtlahuaca/Embarazo, parto y puerperio",
          "ciudad de méxico/iztapalapa/Embarazo, parto y puerperio",
          "puebla/izúcar de matamoros/Embarazo, parto y puerperio",
          "méxico/jiquipilco/Embarazo, parto y puerperio",
          "veracruz de ignacio de la llave/las choapas/Embarazo, parto y puerperio",
          "baja california sur/los cabos/Embarazo, parto y puerperio",
          "michoacán de ocampo/los reyes/Embarazo, parto y puerperio",
          "michoacán de ocampo/maravatío/Embarazo, parto y puerperio",
          "oaxaca/matías romero avendaño/Embarazo, parto y puerperio",
          "sinaloa/mazatlán/Embarazo, parto y puerperio",
          "hidalgo/mixquiahuala de juárez/Embarazo, parto y puerperio",
          "coahuila de zaragoza/monclova/Embarazo, parto y puerperio",
          "nuevo león/montemorelos/Embarazo, parto y puerperio",
          "nuevo león/monterrey/Embarazo, parto y puerperio",
          "guanajuato/moroleón/Embarazo, parto y puerperio",
          "méxico/nezahualcóyotl/Embarazo, parto y puerperio",
          "guerrero/ometepec/Embarazo, parto y puerperio",
          "quintana roo/othón p. blanco/Embarazo, parto y puerperio",
          "aguascalientes/otros municipios/Embarazo, parto y puerperio",
          "baja california/otros municipios.1/Embarazo, parto y puerperio",
          "guanajuato/otros municipios.10/Embarazo, parto y puerperio",
          "jalisco/otros municipios.13/Embarazo, parto y puerperio",
          "méxico/otros municipios.14/Embarazo, parto y puerperio",
          "nuevo león/otros municipios.18/Embarazo, parto y puerperio",
          "oaxaca/otros municipios.19/Embarazo, parto y puerperio",
          "querétaro arteaga/otros municipios.21/Embarazo, parto y puerperio",
          "san luis potosí/otros municipios.23/Embarazo, parto y puerperio",
          "tamaulipas/otros municipios.27/Embarazo, parto y puerperio",
          "tlaxcala/otros municipios.28/Embarazo, parto y puerperio",
          "veracruz de ignacio de la llave/otros municipios.29/Embarazo, parto y puerperio",
          "campeche/otros municipios.3/Embarazo, parto y puerperio",
          "coahuila de zaragoza/otros municipios.4/Embarazo, parto y puerperio",
          "chiapas/otros municipios.6/Embarazo, parto y puerperio",
          "ciudad de méxico/otros municipios.8/Embarazo, parto y puerperio",
          "méxico/otumba/Embarazo, parto y puerperio",
          "méxico/otzolotepec/Embarazo, parto y puerperio",
          "tabasco/paraíso/Embarazo, parto y puerperio",
          "chiapas/pijijiapan/Embarazo, parto y puerperio",
          "hidalgo/progreso de obregón/Embarazo, parto y puerperio",
          "michoacán de ocampo/purépero/Embarazo, parto y puerperio",
          "guanajuato/pénjamo/Embarazo, parto y puerperio",
          "tamaulipas/reynosa/Embarazo, parto y puerperio",
          "tamaulipas/río bravo/Embarazo, parto y puerperio",
          "coahuila de zaragoza/sabinas/Embarazo, parto y puerperio",
          "michoacán de ocampo/sahuayo/Embarazo, parto y puerperio",
          "guanajuato/salamanca/Embarazo, parto y puerperio",
          "coahuila de zaragoza/saltillo/Embarazo, parto y puerperio",
          "sinaloa/salvador alvarado/Embarazo, parto y puerperio",
          "guanajuato/san felipe/Embarazo, parto y puerperio",
          "méxico/san felipe del progreso/Embarazo, parto y puerperio",
          "guanajuato/san josé iturbide/Embarazo, parto y puerperio",
          "san luis potosí/san luis potosí.1/Embarazo, parto y puerperio",
          "puebla/san martín texmelucan/Embarazo, parto y puerperio",
          "puebla/san pedro cholula/Embarazo, parto y puerperio",
          "nuevo león/san pedro garza garcía/Embarazo, parto y puerperio",
          "jalisco/san pedro tlaquepaque/Embarazo, parto y puerperio",
          "veracruz de ignacio de la llave/santiago tuxtla/Embarazo, parto y puerperio",
          "quintana roo/solidaridad/Embarazo, parto y puerperio",
          "tamaulipas/tampico/Embarazo, parto y puerperio",
          "guanajuato/tarandacuao/Embarazo, parto y puerperio",
          "puebla/tecamachalco/Embarazo, parto y puerperio",
          "baja california/tecate/Embarazo, parto y puerperio",
          "méxico/tecámac/Embarazo, parto y puerperio",
          "puebla/tehuacán/Embarazo, parto y puerperio",
          "méxico/temascalcingo/Embarazo, parto y puerperio",
          "méxico/temoaya/Embarazo, parto y puerperio",
          "méxico/tenancingo/Embarazo, parto y puerperio",
          "méxico/teoloyucan/Embarazo, parto y puerperio",
          "méxico/teotihuacán/Embarazo, parto y puerperio",
          "puebla/tepeaca/Embarazo, parto y puerperio",
          "hidalgo/tepeapulco/Embarazo, parto y puerperio",
          "hidalgo/tepeji del río de ocampo/Embarazo, parto y puerperio",
          "hidalgo/tezontepec de aldama/Embarazo, parto y puerperio",
          "méxico/tianguistenco/Embarazo, parto y puerperio",
          "hidalgo/tizayuca/Embarazo, parto y puerperio",
          "méxico/tlalnepantla de baz/Embarazo, parto y puerperio",
          "hidalgo/tlaxcoapan/Embarazo, parto y puerperio",
          "méxico/toluca/Embarazo, parto y puerperio",
          "jalisco/tonalá.1/Embarazo, parto y puerperio",
          "hidalgo/tulancingo de bravo/Embarazo, parto y puerperio",
          "méxico/tultitlán/Embarazo, parto y puerperio",
          "méxico/valle de chalco solidaridad/Embarazo, parto y puerperio",
          "tamaulipas/victoria/Embarazo, parto y puerperio",
          "chiapas/villaflores/Embarazo, parto y puerperio",
          "tlaxcala/xaloztoc/Embarazo, parto y puerperio",
          "puebla/xicotepec/Embarazo, parto y puerperio",
          "ciudad de méxico/xochimilco/Embarazo, parto y puerperio",
          "guanajuato/yuriria/Embarazo, parto y puerperio",
          "michoacán de ocampo/zacapu/Embarazo, parto y puerperio",
          "tlaxcala/zacatelco/Embarazo, parto y puerperio",
          "guerrero/zihuatanejo de azueta/Embarazo, parto y puerperio",
          "michoacán de ocampo/zitácuaro/Embarazo, parto y puerperio",
          "nayarit/bahía de banderas/Enfermedades endócrinas, nutricionales y metabólicas",
          "veracruz de ignacio de la llave/martínez de la torre/Enfermedades endócrinas, nutricionales y metabólicas",
          "méxico/nicolás romero/Enfermedades endócrinas, nutricionales y metabólicas",
          "morelos/puente de ixtla/Enfermedades endócrinas, nutricionales y metabólicas",
          "méxico/tejupilco/Enfermedades endócrinas, nutricionales y metabólicas",
          "yucatán/tizimín/Enfermedades endócrinas, nutricionales y metabólicas",
          "méxico/zumpango/Enfermedades endócrinas, nutricionales y metabólicas",
          "ciudad de méxico/coyoacán/Malformaciones congénitas, deformidades y anomalías cromosómicas",
          "aguascalientes/aguascalientes.1/Traumatismos, envenenamientos y algunas otras consecuencias de causas externas",
          "quintana roo/benito juárez.1/Traumatismos, envenenamientos y algunas otras consecuencias de causas externas",
          "campeche/carmen/Traumatismos, envenenamientos y algunas otras consecuencias de causas externas",
          "méxico/chalco/Traumatismos, envenenamientos y algunas otras consecuencias de causas externas",
          "jalisco/chapala/Traumatismos, envenenamientos y algunas otras consecuencias de causas externas",
          "quintana roo/cozumel/Traumatismos, envenenamientos y algunas otras consecuencias de causas externas",
          "chihuahua/cuauhtémoc/Traumatismos, envenenamientos y algunas otras consecuencias de causas externas",
          "jalisco/jalostotitlán/Traumatismos, envenenamientos y algunas otras consecuencias de causas externas",
          "jalisco/ocotlán/Traumatismos, envenenamientos y algunas otras consecuencias de causas externas",
          "michoacán de ocampo/otros municipios.15/Traumatismos, envenenamientos y algunas otras consecuencias de causas externas",
          "quintana roo/otros municipios.22/Traumatismos, envenenamientos y algunas otras consecuencias de causas externas",
          "sonora/otros municipios.25/Traumatismos, envenenamientos y algunas otras consecuencias de causas externas",
          "yucatán/otros municipios.30/Traumatismos, envenenamientos y algunas otras consecuencias de causas externas",
          "coahuila de zaragoza/piedras negras/Traumatismos, envenenamientos y algunas otras consecuencias de causas externas",
          "sonora/puerto peñasco/Traumatismos, envenenamientos y algunas otras consecuencias de causas externas",
          "jalisco/puerto vallarta/Traumatismos, envenenamientos y algunas otras consecuencias de causas externas",
          "oaxaca/san lorenzo cacaotepec/Traumatismos, envenenamientos y algunas otras consecuencias de causas externas",
          "sonora/san luis río colorado/Traumatismos, envenenamientos y algunas otras consecuencias de causas externas",
          "méxico/texcoco/Traumatismos, envenenamientos y algunas otras consecuencias de causas externas",
          "chiapas/tonalá/Traumatismos, envenenamientos y algunas otras consecuencias de causas externas",
          "veracruz de ignacio de la llave/xalapa/Traumatismos, envenenamientos y algunas otras consecuencias de causas externas",
          "zacatecas/zacatecas.1/Traumatismos, envenenamientos y algunas otras consecuencias de causas externas",
          "jalisco/zapotlán el grande/Traumatismos, envenenamientos y algunas otras consecuencias de causas externas",
          "guanajuato/abasolo",
          "méxico/acambay de ruíz castañeda",
          "guerrero/acapulco de juárez",
          "puebla/acatlán",
          "puebla/acatzingo",
          "veracruz de ignacio de la llave/acayucan",
          "méxico/acolman",
          "hidalgo/actopan",
          "coahuila de zaragoza/acuña",
          "guanajuato/acámbaro",
          "sonora/agua prieta",
          "aguascalientes/aguascalientes.1",
          "sinaloa/ahome",
          "san luis potosí/ahualulco",
          "guerrero/ajuchitlán del progreso",
          "méxico/almoloya de juárez",
          "querétaro arteaga/amealco de bonfil",
          "méxico/amecameca",
          "hidalgo/apan",
          "guanajuato/apaseo el alto",
          "guanajuato/apaseo el grande",
          "michoacán de ocampo/apatzingán",
          "tlaxcala/apizaco",
          "nuevo león/apodaca",
          "jalisco/arandas",
          "guerrero/arcelia",
          "méxico/atizapán de zaragoza",
          "méxico/atlacomulco",
          "puebla/atlixco",
          "guerrero/atoyac de álvarez",
          "jalisco/autlán de navarro",
          "morelos/axochiapan",
          "ciudad de méxico/azcapotzalco",
          "nayarit/bahía de banderas",
          "ciudad de méxico/benito juárez",
          "quintana roo/benito juárez.1",
          "veracruz de ignacio de la llave/boca del río",
          "sonora/caborca",
          "querétaro arteaga/cadereyta de montes",
          "nuevo león/cadereyta jiménez",
          "sonora/cajeme",
          "méxico/calimaya",
          "tlaxcala/calpulalpan",
          "tamaulipas/camargo",
          "veracruz de ignacio de la llave/camerino z. mendoza",
          "campeche/campeche.1",
          "méxico/capulhuac",
          "campeche/carmen",
          "guanajuato/celaya",
          "tabasco/centro",
          "san luis potosí/cerritos",
          "méxico/chalco",
          "jalisco/chapala",
          "tlaxcala/chiautempan",
          "méxico/chicoloapan",
          "méxico/chiconcuac",
          "chihuahua/chihuahua.1",
          "guerrero/chilapa de álvarez",
          "guerrero/chilpancingo de los bravo",
          "méxico/chimalhuacán",
          "oaxaca/ciudad ixtepec",
          "san luis potosí/ciudad valles",
          "méxico/coacalco de berriozábal",
          "méxico/coatepec harinas",
          "veracruz de ignacio de la llave/coatzacoalcos",
          "colima/colima.1",
          "tabasco/comalcalco",
          "chiapas/comitán de domínguez",
          "querétaro arteaga/corregidora",
          "guanajuato/cortazar",
          "ciudad de méxico/coyoacán",
          "quintana roo/cozumel",
          "ciudad de méxico/cuajimalpa de morelos",
          "chihuahua/cuauhtémoc",
          "ciudad de méxico/cuauhtémoc.1",
          "méxico/cuautitlán",
          "méxico/cuautitlán izcalli",
          "morelos/cuautla",
          "morelos/cuernavaca",
          "veracruz de ignacio de la llave/cuitláhuac",
          "sinaloa/culiacán",
          "tabasco/cunduacán",
          "tabasco/cárdenas",
          "veracruz de ignacio de la llave/córdoba",
          "chihuahua/delicias",
          "guanajuato/dolores hidalgo cuna de la independencia nacional",
          "durango/durango.1",
          "méxico/ecatepec de morelos",
          "méxico/el oro",
          "tabasco/emiliano zapata",
          "jalisco/encarnación de díaz",
          "baja california/ensenada",
          "sinaloa/escuinapa",
          "querétaro arteaga/ezequiel montes",
          "zacatecas/fresnillo",
          "jalisco/guadalajara",
          "nuevo león/guadalupe",
          "zacatecas/guadalupe.1",
          "guanajuato/guanajuato.1",
          "sinaloa/guasave",
          "ciudad de méxico/gustavo a. madero",
          "sonora/hermosillo",
          "oaxaca/heroica ciudad de huajuapan de león",
          "oaxaca/heroica ciudad de juchitán de zaragoza",
          "oaxaca/heroica ciudad de tlaxiaco",
          "michoacán de ocampo/hidalgo.1",
          "tlaxcala/huamantla",
          "guanajuato/huanímaro",
          "sonora/huatabampo",
          "veracruz de ignacio de la llave/huatusco",
          "puebla/huauchinango",
          "puebla/huejotzingo",
          "hidalgo/huejutla de reyes",
          "michoacán de ocampo/huetamo",
          "hidalgo/huichapan",
          "méxico/huixquilucan",
          "guerrero/iguala de la independencia",
          "guanajuato/irapuato",
          "veracruz de ignacio de la llave/isla",
          "hidalgo/ixmiquilpan",
          "méxico/ixtapaluca",
          "méxico/ixtapan de la sal",
          "méxico/ixtlahuaca",
          "nayarit/ixtlán del río",
          "ciudad de méxico/iztacalco",
          "ciudad de méxico/iztapalapa",
          "puebla/izúcar de matamoros",
          "jalisco/jalostotitlán",
          "querétaro arteaga/jalpan de serra",
          "zacatecas/jerez",
          "méxico/jilotepec",
          "michoacán de ocampo/jiménez",
          "michoacán de ocampo/jiquilpan",
          "méxico/jiquipilco",
          "morelos/jiutepec",
          "jalisco/jocotepec",
          "morelos/jojutla",
          "guerrero/juan r. escudero",
          "chihuahua/juárez",
          "ciudad de méxico/la magdalena contreras",
          "baja california sur/la paz",
          "méxico/la paz.1",
          "michoacán de ocampo/la piedad",
          "jalisco/lagos de moreno",
          "veracruz de ignacio de la llave/las choapas",
          "méxico/lerma",
          "guanajuato/león",
          "nuevo león/linares",
          "oaxaca/loma bonita",
          "baja california sur/los cabos",
          "michoacán de ocampo/los reyes",
          "michoacán de ocampo/lázaro cárdenas",
          "tabasco/macuspana",
          "chihuahua/madera",
          "sonora/magdalena",
          "guanajuato/manuel doblado",
          "colima/manzanillo",
          "michoacán de ocampo/maravatío",
          "veracruz de ignacio de la llave/martínez de la torre",
          "tamaulipas/matamoros",
          "san luis potosí/matehuala",
          "oaxaca/matías romero avendaño",
          "sinaloa/mazatlán",
          "méxico/melchor ocampo",
          "méxico/metepec",
          "baja california/mexicali",
          "tamaulipas/miguel alemán",
          "ciudad de méxico/miguel hidalgo",
          "ciudad de méxico/milpa alta",
          "veracruz de ignacio de la llave/minatitlán",
          "hidalgo/mixquiahuala de juárez",
          "coahuila de zaragoza/monclova",
          "nuevo león/montemorelos",
          "nuevo león/monterrey",
          "michoacán de ocampo/morelia",
          "guanajuato/moroleón",
          "yucatán/mérida",
          "veracruz de ignacio de la llave/naranjos amatlán",
          "méxico/naucalpan de juárez",
          "sonora/navojoa",
          "méxico/nezahualcóyotl",
          "méxico/nicolás romero",
          "sonora/nogales",
          "chihuahua/nuevo casas grandes",
          "tamaulipas/nuevo laredo",
          "oaxaca/oaxaca de juárez",
          "jalisco/ocotlán",
          "zacatecas/ojocaliente",
          "guerrero/ometepec",
          "veracruz de ignacio de la llave/orizaba",
          "quintana roo/othón p. blanco",
          "aguascalientes/otros municipios",
          "baja california/otros municipios.1",
          "guanajuato/otros municipios.10",
          "guerrero/otros municipios.11",
          "jalisco/otros municipios.13",
          "méxico/otros municipios.14",
          "michoacán de ocampo/otros municipios.15",
          "nayarit/otros municipios.17",
          "nuevo león/otros municipios.18",
          "oaxaca/otros municipios.19",
          "baja california sur/otros municipios.2",
          "puebla/otros municipios.20",
          "querétaro arteaga/otros municipios.21",
          "quintana roo/otros municipios.22",
          "san luis potosí/otros municipios.23",
          "sinaloa/otros municipios.24",
          "sonora/otros municipios.25",
          "tabasco/otros municipios.26",
          "tamaulipas/otros municipios.27",
          "tlaxcala/otros municipios.28",
          "veracruz de ignacio de la llave/otros municipios.29",
          "campeche/otros municipios.3",
          "yucatán/otros municipios.30",
          "zacatecas/otros municipios.31",
          "coahuila de zaragoza/otros municipios.4",
          "colima/otros municipios.5",
          "chiapas/otros municipios.6",
          "chihuahua/otros municipios.7",
          "ciudad de méxico/otros municipios.8",
          "durango/otros municipios.9",
          "méxico/otumba",
          "méxico/otzolotepec",
          "hidalgo/pachuca de soto",
          "chiapas/palenque",
          "veracruz de ignacio de la llave/papantla",
          "tabasco/paraíso",
          "veracruz de ignacio de la llave/perote",
          "coahuila de zaragoza/piedras negras",
          "chiapas/pijijiapan",
          "baja california/playas de rosarito",
          "veracruz de ignacio de la llave/poza rica de hidalgo",
          "hidalgo/progreso de obregón",
          "puebla/puebla.1",
          "guanajuato/pueblo nuevo",
          "morelos/puente de ixtla",
          "sonora/puerto peñasco",
          "jalisco/puerto vallarta",
          "guerrero/pungarabato",
          "michoacán de ocampo/puruándiro",
          "michoacán de ocampo/purépero",
          "oaxaca/putla villa de guerrero",
          "michoacán de ocampo/pátzcuaro",
          "guanajuato/pénjamo",
          "querétaro arteaga/querétaro",
          "michoacán de ocampo/quiroga",
          "tamaulipas/reynosa",
          "san luis potosí/rioverde",
          "tamaulipas/río bravo",
          "zacatecas/río grande",
          "coahuila de zaragoza/sabinas",
          "michoacán de ocampo/sahuayo",
          "guanajuato/salamanca",
          "oaxaca/salina cruz",
          "coahuila de zaragoza/saltillo",
          "sinaloa/salvador alvarado",
          "guanajuato/salvatierra",
          "veracruz de ignacio de la llave/san andrés tuxtla",
          "chiapas/san cristóbal de las casas",
          "guanajuato/san felipe",
          "méxico/san felipe del progreso",
          "guanajuato/san francisco del rincón",
          "guanajuato/san josé iturbide",
          "oaxaca/san juan bautista tuxtepec",
          "jalisco/san juan de los lagos",
          "querétaro arteaga/san juan del río",
          "oaxaca/san lorenzo cacaotepec",
          "guanajuato/san luis de la paz",
          "san luis potosí/san luis potosí.1",
          "sonora/san luis río colorado",
          "puebla/san martín texmelucan",
          "méxico/san mateo atenco",
          "guanajuato/san miguel de allende",
          "nuevo león/san nicolás de los garza",
          "puebla/san pedro cholula",
          "nuevo león/san pedro garza garcía",
          "oaxaca/san pedro mixtepec",
          "jalisco/san pedro tlaquepaque",
          "guanajuato/santa cruz de juventino rosas",
          "oaxaca/santa maría huatulco",
          "durango/santiago papasquiaro",
          "oaxaca/santiago pinotepa nacional",
          "veracruz de ignacio de la llave/santiago tuxtla",
          "oaxaca/santo domingo tehuantepec",
          "guanajuato/silao de la victoria",
          "quintana roo/solidaridad",
          "michoacán de ocampo/tacámbaro",
          "tamaulipas/tampico",
          "chiapas/tapachula",
          "guanajuato/tarandacuao",
          "guerrero/taxco de alarcón",
          "puebla/tecamachalco",
          "baja california/tecate",
          "colima/tecomán",
          "méxico/tecámac",
          "puebla/tehuacán",
          "méxico/tejupilco",
          "guerrero/teloloapan",
          "méxico/temascalcingo",
          "morelos/temixco",
          "méxico/temoaya",
          "méxico/tenancingo",
          "jalisco/teocaltiche",
          "méxico/teoloyucan",
          "méxico/teotihuacán",
          "jalisco/tepatitlán de morelos",
          "puebla/tepeaca",
          "hidalgo/tepeapulco",
          "hidalgo/tepeji del río de ocampo",
          "méxico/tepetlixpa",
          "nayarit/tepic",
          "querétaro arteaga/tequisquiapan",
          "méxico/texcoco",
          "puebla/teziutlán",
          "hidalgo/tezontepec de aldama",
          "méxico/tianguistenco",
          "veracruz de ignacio de la llave/tierra blanca",
          "baja california/tijuana",
          "hidalgo/tizayuca",
          "yucatán/tizimín",
          "oaxaca/tlacolula de matamoros",
          "jalisco/tlajomulco de zúñiga",
          "méxico/tlalnepantla de baz",
          "ciudad de méxico/tlalpan",
          "zacatecas/tlaltenango de sánchez román",
          "guerrero/tlapa de comonfort",
          "guerrero/tlapehuala",
          "tlaxcala/tlaxcala.1",
          "hidalgo/tlaxcoapan",
          "ciudad de méxico/tláhuac",
          "méxico/toluca",
          "chiapas/tonalá",
          "jalisco/tonalá.1",
          "coahuila de zaragoza/torreón",
          "hidalgo/tula de allende",
          "hidalgo/tulancingo de bravo",
          "méxico/tultitlán",
          "veracruz de ignacio de la llave/tuxpan",
          "chiapas/tuxtla gutiérrez",
          "guerrero/técpan de galeana",
          "guanajuato/uriangato",
          "michoacán de ocampo/uruapan",
          "yucatán/valladolid",
          "méxico/valle de bravo",
          "méxico/valle de chalco solidaridad",
          "guanajuato/valle de santiago",
          "tamaulipas/valle hermoso",
          "ciudad de méxico/venustiano carranza",
          "veracruz de ignacio de la llave/veracruz",
          "tamaulipas/victoria",
          "méxico/villa victoria",
          "chiapas/villaflores",
          "guanajuato/villagrán",
          "veracruz de ignacio de la llave/xalapa",
          "tlaxcala/xaloztoc",
          "puebla/xicotepec",
          "ciudad de méxico/xochimilco",
          "morelos/xochitepec",
          "méxico/xonacatlán",
          "morelos/yautepec",
          "guanajuato/yuriria",
          "michoacán de ocampo/zacapu",
          "zacatecas/zacatecas.1",
          "tlaxcala/zacatelco",
          "michoacán de ocampo/zamora",
          "jalisco/zapopan",
          "jalisco/zapotlán el grande",
          "guerrero/zihuatanejo de azueta",
          "hidalgo/zimapán",
          "oaxaca/zimatlán de álvarez",
          "méxico/zinacantepec",
          "michoacán de ocampo/zinapécuaro",
          "michoacán de ocampo/zitácuaro",
          "méxico/zumpango",
          "veracruz de ignacio de la llave/álamo temapache",
          "ciudad de méxico/álvaro obregón",
          "aguascalientes",
          "baja california",
          "baja california sur",
          "campeche",
          "chiapas",
          "chihuahua",
          "ciudad de méxico",
          "coahuila de zaragoza",
          "colima",
          "durango",
          "guanajuato",
          "guerrero",
          "hidalgo",
          "jalisco",
          "michoacán de ocampo",
          "morelos",
          "méxico",
          "nayarit",
          "nuevo león",
          "oaxaca",
          "puebla",
          "querétaro arteaga",
          "quintana roo",
          "san luis potosí",
          "sinaloa",
          "sonora",
          "tabasco",
          "tamaulipas",
          "tlaxcala",
          "veracruz de ignacio de la llave",
          "yucatán",
          "zacatecas"
         ],
         "labels": [
          " Ciertas enfermedades infecciosas y parasitarias",
          " Ciertas enfermedades infecciosas y parasitarias",
          " Ciertas enfermedades infecciosas y parasitarias",
          " Ciertas enfermedades infecciosas y parasitarias",
          " Ciertas enfermedades infecciosas y parasitarias",
          " Ciertas enfermedades infecciosas y parasitarias",
          " Ciertas enfermedades infecciosas y parasitarias",
          " Ciertas enfermedades infecciosas y parasitarias",
          " Ciertas enfermedades infecciosas y parasitarias",
          " Ciertas enfermedades infecciosas y parasitarias",
          " Ciertas enfermedades infecciosas y parasitarias",
          " Ciertas enfermedades infecciosas y parasitarias",
          " Ciertas enfermedades infecciosas y parasitarias",
          " Ciertas enfermedades infecciosas y parasitarias",
          " Ciertas enfermedades infecciosas y parasitarias",
          " Ciertas enfermedades infecciosas y parasitarias",
          " Ciertas enfermedades infecciosas y parasitarias",
          " Ciertas enfermedades infecciosas y parasitarias",
          " Ciertas enfermedades infecciosas y parasitarias",
          " Ciertas enfermedades infecciosas y parasitarias",
          " Ciertas enfermedades infecciosas y parasitarias",
          " Ciertas enfermedades infecciosas y parasitarias",
          " Ciertas enfermedades infecciosas y parasitarias",
          " Ciertas enfermedades infecciosas y parasitarias",
          " Ciertas enfermedades infecciosas y parasitarias",
          " Ciertas enfermedades infecciosas y parasitarias",
          " Ciertas enfermedades infecciosas y parasitarias",
          " Ciertas enfermedades infecciosas y parasitarias",
          " Ciertas enfermedades infecciosas y parasitarias",
          " Ciertas enfermedades infecciosas y parasitarias",
          " Ciertas enfermedades infecciosas y parasitarias",
          " Ciertas enfermedades infecciosas y parasitarias",
          " Ciertas enfermedades infecciosas y parasitarias",
          " Ciertas enfermedades infecciosas y parasitarias",
          " Ciertas enfermedades infecciosas y parasitarias",
          " Ciertas enfermedades infecciosas y parasitarias",
          " Ciertas enfermedades infecciosas y parasitarias",
          " Ciertas enfermedades infecciosas y parasitarias",
          " Ciertas enfermedades infecciosas y parasitarias",
          " Ciertas enfermedades infecciosas y parasitarias",
          " Ciertas enfermedades infecciosas y parasitarias",
          " Ciertas enfermedades infecciosas y parasitarias",
          " Ciertas enfermedades infecciosas y parasitarias",
          " Ciertas enfermedades infecciosas y parasitarias",
          " Ciertas enfermedades infecciosas y parasitarias",
          " Ciertas enfermedades infecciosas y parasitarias",
          " Ciertas enfermedades infecciosas y parasitarias",
          " Ciertas enfermedades infecciosas y parasitarias",
          " Ciertas enfermedades infecciosas y parasitarias",
          " Ciertas enfermedades infecciosas y parasitarias",
          " Ciertas enfermedades infecciosas y parasitarias",
          " Ciertas enfermedades infecciosas y parasitarias",
          " Ciertas enfermedades infecciosas y parasitarias",
          " Ciertas enfermedades infecciosas y parasitarias",
          " Ciertas enfermedades infecciosas y parasitarias",
          " Ciertas enfermedades infecciosas y parasitarias",
          " Ciertas enfermedades infecciosas y parasitarias",
          " Ciertas enfermedades infecciosas y parasitarias",
          " Ciertas enfermedades infecciosas y parasitarias",
          " Ciertas enfermedades infecciosas y parasitarias",
          " Ciertas enfermedades infecciosas y parasitarias",
          " Ciertas enfermedades infecciosas y parasitarias",
          " Ciertas enfermedades infecciosas y parasitarias",
          " Ciertas enfermedades infecciosas y parasitarias",
          " Ciertas enfermedades infecciosas y parasitarias",
          " Ciertas enfermedades infecciosas y parasitarias",
          " Ciertas enfermedades infecciosas y parasitarias",
          " Ciertas enfermedades infecciosas y parasitarias",
          " Ciertas enfermedades infecciosas y parasitarias",
          " Ciertas enfermedades infecciosas y parasitarias",
          " Ciertas enfermedades infecciosas y parasitarias",
          " Ciertas enfermedades infecciosas y parasitarias",
          " Ciertas enfermedades infecciosas y parasitarias",
          " Ciertas enfermedades infecciosas y parasitarias",
          " Ciertas enfermedades infecciosas y parasitarias",
          " Ciertas enfermedades infecciosas y parasitarias",
          " Enfermedades del aparato circulatorio",
          " Enfermedades del aparato circulatorio",
          " Enfermedades del aparato circulatorio",
          " Enfermedades del aparato circulatorio",
          " Enfermedades del aparato circulatorio",
          " Enfermedades del aparato circulatorio",
          " Enfermedades del aparato circulatorio",
          " Enfermedades del ojo y sus anexos",
          " Enfermedades del ojo y sus anexos",
          " Enfermedades del sistema digestivo",
          " Enfermedades del sistema digestivo",
          " Enfermedades del sistema digestivo",
          " Enfermedades del sistema digestivo",
          " Enfermedades del sistema digestivo",
          " Enfermedades del sistema digestivo",
          " Enfermedades del sistema digestivo",
          " Enfermedades del sistema digestivo",
          " Enfermedades del sistema digestivo",
          " Enfermedades del sistema digestivo",
          " Enfermedades del sistema digestivo",
          " Enfermedades del sistema digestivo",
          " Enfermedades del sistema digestivo",
          " Enfermedades del sistema digestivo",
          " Enfermedades del sistema digestivo",
          " Enfermedades del sistema digestivo",
          " Enfermedades del sistema digestivo",
          " Enfermedades del sistema digestivo",
          " Enfermedades del sistema digestivo",
          " Enfermedades del sistema digestivo",
          " Enfermedades del sistema digestivo",
          " Enfermedades del sistema digestivo",
          " Enfermedades del sistema digestivo",
          " Enfermedades del sistema digestivo",
          " Enfermedades del sistema digestivo",
          " Enfermedades del sistema digestivo",
          " Enfermedades del sistema digestivo",
          " Enfermedades del sistema digestivo",
          " Enfermedades del sistema digestivo",
          " Enfermedades del sistema digestivo",
          " Enfermedades del sistema digestivo",
          " Enfermedades del sistema digestivo",
          " Enfermedades del sistema digestivo",
          " Enfermedades del sistema digestivo",
          " Enfermedades del sistema digestivo",
          " Enfermedades del sistema digestivo",
          " Enfermedades del sistema digestivo",
          " Enfermedades del sistema digestivo",
          " Enfermedades del sistema digestivo",
          " Enfermedades del sistema digestivo",
          " Enfermedades del sistema digestivo",
          " Enfermedades del sistema digestivo",
          " Enfermedades del sistema digestivo",
          " Enfermedades del sistema digestivo",
          " Enfermedades del sistema digestivo",
          " Enfermedades del sistema digestivo",
          " Enfermedades del sistema digestivo",
          " Enfermedades del sistema digestivo",
          " Enfermedades del sistema digestivo",
          " Enfermedades del sistema digestivo",
          " Enfermedades del sistema digestivo",
          " Enfermedades del sistema digestivo",
          " Enfermedades del sistema digestivo",
          " Enfermedades del sistema digestivo",
          " Enfermedades del sistema digestivo",
          " Enfermedades del sistema digestivo",
          " Enfermedades del sistema digestivo",
          " Enfermedades del sistema digestivo",
          " Enfermedades del sistema digestivo",
          " Enfermedades del sistema digestivo",
          " Enfermedades del sistema digestivo",
          " Enfermedades del sistema digestivo",
          " Enfermedades del sistema digestivo",
          " Enfermedades del sistema digestivo",
          " Enfermedades del sistema digestivo",
          " Enfermedades del sistema digestivo",
          " Enfermedades del sistema digestivo",
          " Enfermedades del sistema digestivo",
          " Enfermedades del sistema digestivo",
          " Enfermedades del sistema digestivo",
          " Enfermedades del sistema digestivo",
          " Enfermedades del sistema digestivo",
          " Enfermedades del sistema digestivo",
          " Enfermedades del sistema digestivo",
          " Enfermedades del sistema digestivo",
          " Enfermedades del sistema digestivo",
          " Enfermedades del sistema digestivo",
          " Enfermedades del sistema digestivo",
          " Enfermedades del sistema digestivo",
          " Enfermedades del sistema digestivo",
          " Enfermedades del sistema digestivo",
          " Enfermedades del sistema digestivo",
          " Enfermedades del sistema digestivo",
          " Enfermedades del sistema digestivo",
          " Enfermedades del sistema digestivo",
          " Enfermedades del sistema digestivo",
          " Enfermedades del sistema digestivo",
          " Enfermedades del sistema digestivo",
          " Enfermedades del sistema digestivo",
          " Enfermedades del sistema digestivo",
          " Enfermedades del sistema digestivo",
          " Enfermedades del sistema digestivo",
          " Enfermedades del sistema digestivo",
          " Enfermedades del sistema digestivo",
          " Enfermedades del sistema genitourinario",
          " Enfermedades del sistema genitourinario",
          " Enfermedades del sistema respiratorio",
          " Enfermedades del sistema respiratorio",
          " Enfermedades del sistema respiratorio",
          " Enfermedades del sistema respiratorio",
          " Enfermedades del sistema respiratorio",
          " Enfermedades del sistema respiratorio",
          " Enfermedades del sistema respiratorio",
          " Enfermedades del sistema respiratorio",
          " Factores que influyen en el estado de salud y contacto con los servicios de salud",
          " Factores que influyen en el estado de salud y contacto con los servicios de salud",
          " Factores que influyen en el estado de salud y contacto con los servicios de salud",
          " Factores que influyen en el estado de salud y contacto con los servicios de salud",
          " Factores que influyen en el estado de salud y contacto con los servicios de salud",
          " Factores que influyen en el estado de salud y contacto con los servicios de salud",
          " Factores que influyen en el estado de salud y contacto con los servicios de salud",
          " Factores que influyen en el estado de salud y contacto con los servicios de salud",
          " Factores que influyen en el estado de salud y contacto con los servicios de salud",
          " Factores que influyen en el estado de salud y contacto con los servicios de salud",
          " Transtornos mentales y del comportamiento",
          " Transtornos mentales y del comportamiento",
          " Transtornos mentales y del comportamiento",
          " Transtornos mentales y del comportamiento",
          " Transtornos mentales y del comportamiento",
          " Transtornos mentales y del comportamiento",
          " Transtornos mentales y del comportamiento",
          " Transtornos mentales y del comportamiento",
          " Tumores [NEOPLASIAS]",
          " Tumores [NEOPLASIAS]",
          "Embarazo, parto y puerperio",
          "Embarazo, parto y puerperio",
          "Embarazo, parto y puerperio",
          "Embarazo, parto y puerperio",
          "Embarazo, parto y puerperio",
          "Embarazo, parto y puerperio",
          "Embarazo, parto y puerperio",
          "Embarazo, parto y puerperio",
          "Embarazo, parto y puerperio",
          "Embarazo, parto y puerperio",
          "Embarazo, parto y puerperio",
          "Embarazo, parto y puerperio",
          "Embarazo, parto y puerperio",
          "Embarazo, parto y puerperio",
          "Embarazo, parto y puerperio",
          "Embarazo, parto y puerperio",
          "Embarazo, parto y puerperio",
          "Embarazo, parto y puerperio",
          "Embarazo, parto y puerperio",
          "Embarazo, parto y puerperio",
          "Embarazo, parto y puerperio",
          "Embarazo, parto y puerperio",
          "Embarazo, parto y puerperio",
          "Embarazo, parto y puerperio",
          "Embarazo, parto y puerperio",
          "Embarazo, parto y puerperio",
          "Embarazo, parto y puerperio",
          "Embarazo, parto y puerperio",
          "Embarazo, parto y puerperio",
          "Embarazo, parto y puerperio",
          "Embarazo, parto y puerperio",
          "Embarazo, parto y puerperio",
          "Embarazo, parto y puerperio",
          "Embarazo, parto y puerperio",
          "Embarazo, parto y puerperio",
          "Embarazo, parto y puerperio",
          "Embarazo, parto y puerperio",
          "Embarazo, parto y puerperio",
          "Embarazo, parto y puerperio",
          "Embarazo, parto y puerperio",
          "Embarazo, parto y puerperio",
          "Embarazo, parto y puerperio",
          "Embarazo, parto y puerperio",
          "Embarazo, parto y puerperio",
          "Embarazo, parto y puerperio",
          "Embarazo, parto y puerperio",
          "Embarazo, parto y puerperio",
          "Embarazo, parto y puerperio",
          "Embarazo, parto y puerperio",
          "Embarazo, parto y puerperio",
          "Embarazo, parto y puerperio",
          "Embarazo, parto y puerperio",
          "Embarazo, parto y puerperio",
          "Embarazo, parto y puerperio",
          "Embarazo, parto y puerperio",
          "Embarazo, parto y puerperio",
          "Embarazo, parto y puerperio",
          "Embarazo, parto y puerperio",
          "Embarazo, parto y puerperio",
          "Embarazo, parto y puerperio",
          "Embarazo, parto y puerperio",
          "Embarazo, parto y puerperio",
          "Embarazo, parto y puerperio",
          "Embarazo, parto y puerperio",
          "Embarazo, parto y puerperio",
          "Embarazo, parto y puerperio",
          "Embarazo, parto y puerperio",
          "Embarazo, parto y puerperio",
          "Embarazo, parto y puerperio",
          "Embarazo, parto y puerperio",
          "Embarazo, parto y puerperio",
          "Embarazo, parto y puerperio",
          "Embarazo, parto y puerperio",
          "Embarazo, parto y puerperio",
          "Embarazo, parto y puerperio",
          "Embarazo, parto y puerperio",
          "Embarazo, parto y puerperio",
          "Embarazo, parto y puerperio",
          "Embarazo, parto y puerperio",
          "Embarazo, parto y puerperio",
          "Embarazo, parto y puerperio",
          "Embarazo, parto y puerperio",
          "Embarazo, parto y puerperio",
          "Embarazo, parto y puerperio",
          "Embarazo, parto y puerperio",
          "Embarazo, parto y puerperio",
          "Embarazo, parto y puerperio",
          "Embarazo, parto y puerperio",
          "Embarazo, parto y puerperio",
          "Embarazo, parto y puerperio",
          "Embarazo, parto y puerperio",
          "Embarazo, parto y puerperio",
          "Embarazo, parto y puerperio",
          "Embarazo, parto y puerperio",
          "Embarazo, parto y puerperio",
          "Embarazo, parto y puerperio",
          "Embarazo, parto y puerperio",
          "Embarazo, parto y puerperio",
          "Embarazo, parto y puerperio",
          "Embarazo, parto y puerperio",
          "Embarazo, parto y puerperio",
          "Embarazo, parto y puerperio",
          "Embarazo, parto y puerperio",
          "Embarazo, parto y puerperio",
          "Embarazo, parto y puerperio",
          "Embarazo, parto y puerperio",
          "Embarazo, parto y puerperio",
          "Embarazo, parto y puerperio",
          "Embarazo, parto y puerperio",
          "Embarazo, parto y puerperio",
          "Embarazo, parto y puerperio",
          "Embarazo, parto y puerperio",
          "Embarazo, parto y puerperio",
          "Embarazo, parto y puerperio",
          "Embarazo, parto y puerperio",
          "Embarazo, parto y puerperio",
          "Embarazo, parto y puerperio",
          "Embarazo, parto y puerperio",
          "Embarazo, parto y puerperio",
          "Embarazo, parto y puerperio",
          "Embarazo, parto y puerperio",
          "Embarazo, parto y puerperio",
          "Embarazo, parto y puerperio",
          "Embarazo, parto y puerperio",
          "Embarazo, parto y puerperio",
          "Embarazo, parto y puerperio",
          "Embarazo, parto y puerperio",
          "Embarazo, parto y puerperio",
          "Embarazo, parto y puerperio",
          "Embarazo, parto y puerperio",
          "Embarazo, parto y puerperio",
          "Embarazo, parto y puerperio",
          "Embarazo, parto y puerperio",
          "Embarazo, parto y puerperio",
          "Embarazo, parto y puerperio",
          "Embarazo, parto y puerperio",
          "Enfermedades endócrinas, nutricionales y metabólicas",
          "Enfermedades endócrinas, nutricionales y metabólicas",
          "Enfermedades endócrinas, nutricionales y metabólicas",
          "Enfermedades endócrinas, nutricionales y metabólicas",
          "Enfermedades endócrinas, nutricionales y metabólicas",
          "Enfermedades endócrinas, nutricionales y metabólicas",
          "Enfermedades endócrinas, nutricionales y metabólicas",
          "Malformaciones congénitas, deformidades y anomalías cromosómicas",
          "Traumatismos, envenenamientos y algunas otras consecuencias de causas externas",
          "Traumatismos, envenenamientos y algunas otras consecuencias de causas externas",
          "Traumatismos, envenenamientos y algunas otras consecuencias de causas externas",
          "Traumatismos, envenenamientos y algunas otras consecuencias de causas externas",
          "Traumatismos, envenenamientos y algunas otras consecuencias de causas externas",
          "Traumatismos, envenenamientos y algunas otras consecuencias de causas externas",
          "Traumatismos, envenenamientos y algunas otras consecuencias de causas externas",
          "Traumatismos, envenenamientos y algunas otras consecuencias de causas externas",
          "Traumatismos, envenenamientos y algunas otras consecuencias de causas externas",
          "Traumatismos, envenenamientos y algunas otras consecuencias de causas externas",
          "Traumatismos, envenenamientos y algunas otras consecuencias de causas externas",
          "Traumatismos, envenenamientos y algunas otras consecuencias de causas externas",
          "Traumatismos, envenenamientos y algunas otras consecuencias de causas externas",
          "Traumatismos, envenenamientos y algunas otras consecuencias de causas externas",
          "Traumatismos, envenenamientos y algunas otras consecuencias de causas externas",
          "Traumatismos, envenenamientos y algunas otras consecuencias de causas externas",
          "Traumatismos, envenenamientos y algunas otras consecuencias de causas externas",
          "Traumatismos, envenenamientos y algunas otras consecuencias de causas externas",
          "Traumatismos, envenenamientos y algunas otras consecuencias de causas externas",
          "Traumatismos, envenenamientos y algunas otras consecuencias de causas externas",
          "Traumatismos, envenenamientos y algunas otras consecuencias de causas externas",
          "Traumatismos, envenenamientos y algunas otras consecuencias de causas externas",
          "Traumatismos, envenenamientos y algunas otras consecuencias de causas externas",
          "abasolo",
          "acambay de ruíz castañeda",
          "acapulco de juárez",
          "acatlán",
          "acatzingo",
          "acayucan",
          "acolman",
          "actopan",
          "acuña",
          "acámbaro",
          "agua prieta",
          "aguascalientes.1",
          "ahome",
          "ahualulco",
          "ajuchitlán del progreso",
          "almoloya de juárez",
          "amealco de bonfil",
          "amecameca",
          "apan",
          "apaseo el alto",
          "apaseo el grande",
          "apatzingán",
          "apizaco",
          "apodaca",
          "arandas",
          "arcelia",
          "atizapán de zaragoza",
          "atlacomulco",
          "atlixco",
          "atoyac de álvarez",
          "autlán de navarro",
          "axochiapan",
          "azcapotzalco",
          "bahía de banderas",
          "benito juárez",
          "benito juárez.1",
          "boca del río",
          "caborca",
          "cadereyta de montes",
          "cadereyta jiménez",
          "cajeme",
          "calimaya",
          "calpulalpan",
          "camargo",
          "camerino z. mendoza",
          "campeche.1",
          "capulhuac",
          "carmen",
          "celaya",
          "centro",
          "cerritos",
          "chalco",
          "chapala",
          "chiautempan",
          "chicoloapan",
          "chiconcuac",
          "chihuahua.1",
          "chilapa de álvarez",
          "chilpancingo de los bravo",
          "chimalhuacán",
          "ciudad ixtepec",
          "ciudad valles",
          "coacalco de berriozábal",
          "coatepec harinas",
          "coatzacoalcos",
          "colima.1",
          "comalcalco",
          "comitán de domínguez",
          "corregidora",
          "cortazar",
          "coyoacán",
          "cozumel",
          "cuajimalpa de morelos",
          "cuauhtémoc",
          "cuauhtémoc.1",
          "cuautitlán",
          "cuautitlán izcalli",
          "cuautla",
          "cuernavaca",
          "cuitláhuac",
          "culiacán",
          "cunduacán",
          "cárdenas",
          "córdoba",
          "delicias",
          "dolores hidalgo cuna de la independencia nacional",
          "durango.1",
          "ecatepec de morelos",
          "el oro",
          "emiliano zapata",
          "encarnación de díaz",
          "ensenada",
          "escuinapa",
          "ezequiel montes",
          "fresnillo",
          "guadalajara",
          "guadalupe",
          "guadalupe.1",
          "guanajuato.1",
          "guasave",
          "gustavo a. madero",
          "hermosillo",
          "heroica ciudad de huajuapan de león",
          "heroica ciudad de juchitán de zaragoza",
          "heroica ciudad de tlaxiaco",
          "hidalgo.1",
          "huamantla",
          "huanímaro",
          "huatabampo",
          "huatusco",
          "huauchinango",
          "huejotzingo",
          "huejutla de reyes",
          "huetamo",
          "huichapan",
          "huixquilucan",
          "iguala de la independencia",
          "irapuato",
          "isla",
          "ixmiquilpan",
          "ixtapaluca",
          "ixtapan de la sal",
          "ixtlahuaca",
          "ixtlán del río",
          "iztacalco",
          "iztapalapa",
          "izúcar de matamoros",
          "jalostotitlán",
          "jalpan de serra",
          "jerez",
          "jilotepec",
          "jiménez",
          "jiquilpan",
          "jiquipilco",
          "jiutepec",
          "jocotepec",
          "jojutla",
          "juan r. escudero",
          "juárez",
          "la magdalena contreras",
          "la paz",
          "la paz.1",
          "la piedad",
          "lagos de moreno",
          "las choapas",
          "lerma",
          "león",
          "linares",
          "loma bonita",
          "los cabos",
          "los reyes",
          "lázaro cárdenas",
          "macuspana",
          "madera",
          "magdalena",
          "manuel doblado",
          "manzanillo",
          "maravatío",
          "martínez de la torre",
          "matamoros",
          "matehuala",
          "matías romero avendaño",
          "mazatlán",
          "melchor ocampo",
          "metepec",
          "mexicali",
          "miguel alemán",
          "miguel hidalgo",
          "milpa alta",
          "minatitlán",
          "mixquiahuala de juárez",
          "monclova",
          "montemorelos",
          "monterrey",
          "morelia",
          "moroleón",
          "mérida",
          "naranjos amatlán",
          "naucalpan de juárez",
          "navojoa",
          "nezahualcóyotl",
          "nicolás romero",
          "nogales",
          "nuevo casas grandes",
          "nuevo laredo",
          "oaxaca de juárez",
          "ocotlán",
          "ojocaliente",
          "ometepec",
          "orizaba",
          "othón p. blanco",
          "otros municipios",
          "otros municipios.1",
          "otros municipios.10",
          "otros municipios.11",
          "otros municipios.13",
          "otros municipios.14",
          "otros municipios.15",
          "otros municipios.17",
          "otros municipios.18",
          "otros municipios.19",
          "otros municipios.2",
          "otros municipios.20",
          "otros municipios.21",
          "otros municipios.22",
          "otros municipios.23",
          "otros municipios.24",
          "otros municipios.25",
          "otros municipios.26",
          "otros municipios.27",
          "otros municipios.28",
          "otros municipios.29",
          "otros municipios.3",
          "otros municipios.30",
          "otros municipios.31",
          "otros municipios.4",
          "otros municipios.5",
          "otros municipios.6",
          "otros municipios.7",
          "otros municipios.8",
          "otros municipios.9",
          "otumba",
          "otzolotepec",
          "pachuca de soto",
          "palenque",
          "papantla",
          "paraíso",
          "perote",
          "piedras negras",
          "pijijiapan",
          "playas de rosarito",
          "poza rica de hidalgo",
          "progreso de obregón",
          "puebla.1",
          "pueblo nuevo",
          "puente de ixtla",
          "puerto peñasco",
          "puerto vallarta",
          "pungarabato",
          "puruándiro",
          "purépero",
          "putla villa de guerrero",
          "pátzcuaro",
          "pénjamo",
          "querétaro",
          "quiroga",
          "reynosa",
          "rioverde",
          "río bravo",
          "río grande",
          "sabinas",
          "sahuayo",
          "salamanca",
          "salina cruz",
          "saltillo",
          "salvador alvarado",
          "salvatierra",
          "san andrés tuxtla",
          "san cristóbal de las casas",
          "san felipe",
          "san felipe del progreso",
          "san francisco del rincón",
          "san josé iturbide",
          "san juan bautista tuxtepec",
          "san juan de los lagos",
          "san juan del río",
          "san lorenzo cacaotepec",
          "san luis de la paz",
          "san luis potosí.1",
          "san luis río colorado",
          "san martín texmelucan",
          "san mateo atenco",
          "san miguel de allende",
          "san nicolás de los garza",
          "san pedro cholula",
          "san pedro garza garcía",
          "san pedro mixtepec",
          "san pedro tlaquepaque",
          "santa cruz de juventino rosas",
          "santa maría huatulco",
          "santiago papasquiaro",
          "santiago pinotepa nacional",
          "santiago tuxtla",
          "santo domingo tehuantepec",
          "silao de la victoria",
          "solidaridad",
          "tacámbaro",
          "tampico",
          "tapachula",
          "tarandacuao",
          "taxco de alarcón",
          "tecamachalco",
          "tecate",
          "tecomán",
          "tecámac",
          "tehuacán",
          "tejupilco",
          "teloloapan",
          "temascalcingo",
          "temixco",
          "temoaya",
          "tenancingo",
          "teocaltiche",
          "teoloyucan",
          "teotihuacán",
          "tepatitlán de morelos",
          "tepeaca",
          "tepeapulco",
          "tepeji del río de ocampo",
          "tepetlixpa",
          "tepic",
          "tequisquiapan",
          "texcoco",
          "teziutlán",
          "tezontepec de aldama",
          "tianguistenco",
          "tierra blanca",
          "tijuana",
          "tizayuca",
          "tizimín",
          "tlacolula de matamoros",
          "tlajomulco de zúñiga",
          "tlalnepantla de baz",
          "tlalpan",
          "tlaltenango de sánchez román",
          "tlapa de comonfort",
          "tlapehuala",
          "tlaxcala.1",
          "tlaxcoapan",
          "tláhuac",
          "toluca",
          "tonalá",
          "tonalá.1",
          "torreón",
          "tula de allende",
          "tulancingo de bravo",
          "tultitlán",
          "tuxpan",
          "tuxtla gutiérrez",
          "técpan de galeana",
          "uriangato",
          "uruapan",
          "valladolid",
          "valle de bravo",
          "valle de chalco solidaridad",
          "valle de santiago",
          "valle hermoso",
          "venustiano carranza",
          "veracruz",
          "victoria",
          "villa victoria",
          "villaflores",
          "villagrán",
          "xalapa",
          "xaloztoc",
          "xicotepec",
          "xochimilco",
          "xochitepec",
          "xonacatlán",
          "yautepec",
          "yuriria",
          "zacapu",
          "zacatecas.1",
          "zacatelco",
          "zamora",
          "zapopan",
          "zapotlán el grande",
          "zihuatanejo de azueta",
          "zimapán",
          "zimatlán de álvarez",
          "zinacantepec",
          "zinapécuaro",
          "zitácuaro",
          "zumpango",
          "álamo temapache",
          "álvaro obregón",
          "aguascalientes",
          "baja california",
          "baja california sur",
          "campeche",
          "chiapas",
          "chihuahua",
          "ciudad de méxico",
          "coahuila de zaragoza",
          "colima",
          "durango",
          "guanajuato",
          "guerrero",
          "hidalgo",
          "jalisco",
          "michoacán de ocampo",
          "morelos",
          "méxico",
          "nayarit",
          "nuevo león",
          "oaxaca",
          "puebla",
          "querétaro arteaga",
          "quintana roo",
          "san luis potosí",
          "sinaloa",
          "sonora",
          "tabasco",
          "tamaulipas",
          "tlaxcala",
          "veracruz de ignacio de la llave",
          "yucatán",
          "zacatecas"
         ],
         "name": "",
         "parents": [
          "méxico/acambay de ruíz castañeda",
          "san luis potosí/ahualulco",
          "guerrero/ajuchitlán del progreso",
          "méxico/amecameca",
          "guerrero/arcelia",
          "jalisco/autlán de navarro",
          "morelos/axochiapan",
          "querétaro arteaga/cadereyta de montes",
          "méxico/calimaya",
          "tlaxcala/calpulalpan",
          "veracruz de ignacio de la llave/camerino z. mendoza",
          "tlaxcala/chiautempan",
          "guerrero/chilapa de álvarez",
          "oaxaca/ciudad ixtepec",
          "veracruz de ignacio de la llave/cuitláhuac",
          "méxico/el oro",
          "tabasco/emiliano zapata",
          "jalisco/encarnación de díaz",
          "querétaro arteaga/ezequiel montes",
          "guanajuato/guanajuato.1",
          "oaxaca/heroica ciudad de tlaxiaco",
          "guanajuato/huanímaro",
          "sonora/huatabampo",
          "veracruz de ignacio de la llave/huatusco",
          "veracruz de ignacio de la llave/isla",
          "nayarit/ixtlán del río",
          "querétaro arteaga/jalpan de serra",
          "méxico/jilotepec",
          "michoacán de ocampo/jiménez",
          "michoacán de ocampo/jiquilpan",
          "morelos/jiutepec",
          "jalisco/jocotepec",
          "méxico/lerma",
          "nuevo león/linares",
          "oaxaca/loma bonita",
          "michoacán de ocampo/lázaro cárdenas",
          "tabasco/macuspana",
          "chihuahua/madera",
          "guanajuato/manuel doblado",
          "san luis potosí/matehuala",
          "méxico/melchor ocampo",
          "tamaulipas/miguel alemán",
          "ciudad de méxico/milpa alta",
          "sonora/navojoa",
          "guerrero/otros municipios.11",
          "baja california sur/otros municipios.2",
          "puebla/otros municipios.20",
          "chihuahua/otros municipios.7",
          "chiapas/palenque",
          "veracruz de ignacio de la llave/papantla",
          "veracruz de ignacio de la llave/perote",
          "guanajuato/pueblo nuevo",
          "michoacán de ocampo/quiroga",
          "zacatecas/río grande",
          "veracruz de ignacio de la llave/san andrés tuxtla",
          "guanajuato/san miguel de allende",
          "guanajuato/santa cruz de juventino rosas",
          "oaxaca/santa maría huatulco",
          "durango/santiago papasquiaro",
          "oaxaca/santo domingo tehuantepec",
          "michoacán de ocampo/tacámbaro",
          "guerrero/taxco de alarcón",
          "morelos/temixco",
          "jalisco/teocaltiche",
          "méxico/tepetlixpa",
          "nayarit/tepic",
          "oaxaca/tlacolula de matamoros",
          "guerrero/tlapehuala",
          "guerrero/técpan de galeana",
          "yucatán/valladolid",
          "méxico/valle de bravo",
          "méxico/villa victoria",
          "guanajuato/villagrán",
          "hidalgo/zimapán",
          "méxico/zinacantepec",
          "veracruz de ignacio de la llave/álamo temapache",
          "sinaloa/escuinapa",
          "zacatecas/guadalupe.1",
          "guanajuato/irapuato",
          "durango/otros municipios.9",
          "jalisco/san juan de los lagos",
          "jalisco/tlajomulco de zúñiga",
          "hidalgo/tula de allende",
          "ciudad de méxico/cuauhtémoc.1",
          "morelos/cuernavaca",
          "veracruz de ignacio de la llave/acayucan",
          "guanajuato/acámbaro",
          "sonora/agua prieta",
          "sinaloa/ahome",
          "guanajuato/apaseo el grande",
          "tlaxcala/apizaco",
          "ciudad de méxico/azcapotzalco",
          "guanajuato/celaya",
          "chihuahua/chihuahua.1",
          "guerrero/chilpancingo de los bravo",
          "colima/colima.1",
          "ciudad de méxico/cuajimalpa de morelos",
          "méxico/cuautitlán",
          "morelos/cuautla",
          "durango/durango.1",
          "baja california/ensenada",
          "zacatecas/fresnillo",
          "jalisco/guadalajara",
          "ciudad de méxico/gustavo a. madero",
          "sonora/hermosillo",
          "oaxaca/heroica ciudad de huajuapan de león",
          "puebla/huauchinango",
          "hidalgo/huejutla de reyes",
          "hidalgo/huichapan",
          "méxico/huixquilucan",
          "guerrero/iguala de la independencia",
          "méxico/ixtapaluca",
          "méxico/ixtapan de la sal",
          "ciudad de méxico/iztacalco",
          "zacatecas/jerez",
          "morelos/jojutla",
          "chihuahua/juárez",
          "ciudad de méxico/la magdalena contreras",
          "méxico/la paz.1",
          "jalisco/lagos de moreno",
          "guanajuato/león",
          "sonora/magdalena",
          "colima/manzanillo",
          "tamaulipas/matamoros",
          "méxico/metepec",
          "baja california/mexicali",
          "ciudad de méxico/miguel hidalgo",
          "yucatán/mérida",
          "veracruz de ignacio de la llave/naranjos amatlán",
          "méxico/naucalpan de juárez",
          "sonora/nogales",
          "chihuahua/nuevo casas grandes",
          "tamaulipas/nuevo laredo",
          "oaxaca/oaxaca de juárez",
          "zacatecas/ojocaliente",
          "nayarit/otros municipios.17",
          "tabasco/otros municipios.26",
          "zacatecas/otros municipios.31",
          "hidalgo/pachuca de soto",
          "veracruz de ignacio de la llave/poza rica de hidalgo",
          "guerrero/pungarabato",
          "michoacán de ocampo/puruándiro",
          "oaxaca/putla villa de guerrero",
          "michoacán de ocampo/pátzcuaro",
          "querétaro arteaga/querétaro",
          "san luis potosí/rioverde",
          "oaxaca/salina cruz",
          "guanajuato/salvatierra",
          "chiapas/san cristóbal de las casas",
          "guanajuato/san francisco del rincón",
          "oaxaca/san juan bautista tuxtepec",
          "querétaro arteaga/san juan del río",
          "guanajuato/san luis de la paz",
          "méxico/san mateo atenco",
          "nuevo león/san nicolás de los garza",
          "oaxaca/santiago pinotepa nacional",
          "guanajuato/silao de la victoria",
          "chiapas/tapachula",
          "guerrero/teloloapan",
          "querétaro arteaga/tequisquiapan",
          "puebla/teziutlán",
          "veracruz de ignacio de la llave/tierra blanca",
          "ciudad de méxico/tlalpan",
          "zacatecas/tlaltenango de sánchez román",
          "tlaxcala/tlaxcala.1",
          "veracruz de ignacio de la llave/tuxpan",
          "chiapas/tuxtla gutiérrez",
          "guanajuato/uriangato",
          "michoacán de ocampo/uruapan",
          "guanajuato/valle de santiago",
          "tamaulipas/valle hermoso",
          "ciudad de méxico/venustiano carranza",
          "veracruz de ignacio de la llave/veracruz",
          "morelos/xochitepec",
          "méxico/xonacatlán",
          "morelos/yautepec",
          "michoacán de ocampo/zamora",
          "oaxaca/zimatlán de álvarez",
          "michoacán de ocampo/zinapécuaro",
          "sinaloa/guasave",
          "guerrero/tlapa de comonfort",
          "guerrero/atoyac de álvarez",
          "tamaulipas/camargo",
          "san luis potosí/cerritos",
          "méxico/coacalco de berriozábal",
          "guerrero/juan r. escudero",
          "veracruz de ignacio de la llave/minatitlán",
          "sinaloa/otros municipios.24",
          "oaxaca/san pedro mixtepec",
          "ciudad de méxico/benito juárez",
          "sonora/caborca",
          "campeche/campeche.1",
          "tabasco/centro",
          "baja california sur/la paz",
          "michoacán de ocampo/la piedad",
          "michoacán de ocampo/morelia",
          "colima/otros municipios.5",
          "colima/tecomán",
          "jalisco/tepatitlán de morelos",
          "guerrero/acapulco de juárez",
          "veracruz de ignacio de la llave/boca del río",
          "veracruz de ignacio de la llave/orizaba",
          "puebla/puebla.1",
          "baja california/tijuana",
          "ciudad de méxico/tláhuac",
          "coahuila de zaragoza/torreón",
          "jalisco/zapopan",
          "baja california/playas de rosarito",
          "ciudad de méxico/álvaro obregón",
          "guanajuato/abasolo",
          "puebla/acatlán",
          "puebla/acatzingo",
          "méxico/acolman",
          "hidalgo/actopan",
          "coahuila de zaragoza/acuña",
          "méxico/almoloya de juárez",
          "querétaro arteaga/amealco de bonfil",
          "hidalgo/apan",
          "guanajuato/apaseo el alto",
          "michoacán de ocampo/apatzingán",
          "nuevo león/apodaca",
          "jalisco/arandas",
          "méxico/atizapán de zaragoza",
          "méxico/atlacomulco",
          "puebla/atlixco",
          "nuevo león/cadereyta jiménez",
          "sonora/cajeme",
          "méxico/capulhuac",
          "méxico/chicoloapan",
          "méxico/chiconcuac",
          "méxico/chimalhuacán",
          "san luis potosí/ciudad valles",
          "méxico/coatepec harinas",
          "veracruz de ignacio de la llave/coatzacoalcos",
          "tabasco/comalcalco",
          "chiapas/comitán de domínguez",
          "querétaro arteaga/corregidora",
          "guanajuato/cortazar",
          "méxico/cuautitlán izcalli",
          "sinaloa/culiacán",
          "tabasco/cunduacán",
          "tabasco/cárdenas",
          "veracruz de ignacio de la llave/córdoba",
          "chihuahua/delicias",
          "guanajuato/dolores hidalgo cuna de la independencia nacional",
          "méxico/ecatepec de morelos",
          "nuevo león/guadalupe",
          "oaxaca/heroica ciudad de juchitán de zaragoza",
          "michoacán de ocampo/hidalgo.1",
          "tlaxcala/huamantla",
          "puebla/huejotzingo",
          "michoacán de ocampo/huetamo",
          "hidalgo/ixmiquilpan",
          "méxico/ixtlahuaca",
          "ciudad de méxico/iztapalapa",
          "puebla/izúcar de matamoros",
          "méxico/jiquipilco",
          "veracruz de ignacio de la llave/las choapas",
          "baja california sur/los cabos",
          "michoacán de ocampo/los reyes",
          "michoacán de ocampo/maravatío",
          "oaxaca/matías romero avendaño",
          "sinaloa/mazatlán",
          "hidalgo/mixquiahuala de juárez",
          "coahuila de zaragoza/monclova",
          "nuevo león/montemorelos",
          "nuevo león/monterrey",
          "guanajuato/moroleón",
          "méxico/nezahualcóyotl",
          "guerrero/ometepec",
          "quintana roo/othón p. blanco",
          "aguascalientes/otros municipios",
          "baja california/otros municipios.1",
          "guanajuato/otros municipios.10",
          "jalisco/otros municipios.13",
          "méxico/otros municipios.14",
          "nuevo león/otros municipios.18",
          "oaxaca/otros municipios.19",
          "querétaro arteaga/otros municipios.21",
          "san luis potosí/otros municipios.23",
          "tamaulipas/otros municipios.27",
          "tlaxcala/otros municipios.28",
          "veracruz de ignacio de la llave/otros municipios.29",
          "campeche/otros municipios.3",
          "coahuila de zaragoza/otros municipios.4",
          "chiapas/otros municipios.6",
          "ciudad de méxico/otros municipios.8",
          "méxico/otumba",
          "méxico/otzolotepec",
          "tabasco/paraíso",
          "chiapas/pijijiapan",
          "hidalgo/progreso de obregón",
          "michoacán de ocampo/purépero",
          "guanajuato/pénjamo",
          "tamaulipas/reynosa",
          "tamaulipas/río bravo",
          "coahuila de zaragoza/sabinas",
          "michoacán de ocampo/sahuayo",
          "guanajuato/salamanca",
          "coahuila de zaragoza/saltillo",
          "sinaloa/salvador alvarado",
          "guanajuato/san felipe",
          "méxico/san felipe del progreso",
          "guanajuato/san josé iturbide",
          "san luis potosí/san luis potosí.1",
          "puebla/san martín texmelucan",
          "puebla/san pedro cholula",
          "nuevo león/san pedro garza garcía",
          "jalisco/san pedro tlaquepaque",
          "veracruz de ignacio de la llave/santiago tuxtla",
          "quintana roo/solidaridad",
          "tamaulipas/tampico",
          "guanajuato/tarandacuao",
          "puebla/tecamachalco",
          "baja california/tecate",
          "méxico/tecámac",
          "puebla/tehuacán",
          "méxico/temascalcingo",
          "méxico/temoaya",
          "méxico/tenancingo",
          "méxico/teoloyucan",
          "méxico/teotihuacán",
          "puebla/tepeaca",
          "hidalgo/tepeapulco",
          "hidalgo/tepeji del río de ocampo",
          "hidalgo/tezontepec de aldama",
          "méxico/tianguistenco",
          "hidalgo/tizayuca",
          "méxico/tlalnepantla de baz",
          "hidalgo/tlaxcoapan",
          "méxico/toluca",
          "jalisco/tonalá.1",
          "hidalgo/tulancingo de bravo",
          "méxico/tultitlán",
          "méxico/valle de chalco solidaridad",
          "tamaulipas/victoria",
          "chiapas/villaflores",
          "tlaxcala/xaloztoc",
          "puebla/xicotepec",
          "ciudad de méxico/xochimilco",
          "guanajuato/yuriria",
          "michoacán de ocampo/zacapu",
          "tlaxcala/zacatelco",
          "guerrero/zihuatanejo de azueta",
          "michoacán de ocampo/zitácuaro",
          "nayarit/bahía de banderas",
          "veracruz de ignacio de la llave/martínez de la torre",
          "méxico/nicolás romero",
          "morelos/puente de ixtla",
          "méxico/tejupilco",
          "yucatán/tizimín",
          "méxico/zumpango",
          "ciudad de méxico/coyoacán",
          "aguascalientes/aguascalientes.1",
          "quintana roo/benito juárez.1",
          "campeche/carmen",
          "méxico/chalco",
          "jalisco/chapala",
          "quintana roo/cozumel",
          "chihuahua/cuauhtémoc",
          "jalisco/jalostotitlán",
          "jalisco/ocotlán",
          "michoacán de ocampo/otros municipios.15",
          "quintana roo/otros municipios.22",
          "sonora/otros municipios.25",
          "yucatán/otros municipios.30",
          "coahuila de zaragoza/piedras negras",
          "sonora/puerto peñasco",
          "jalisco/puerto vallarta",
          "oaxaca/san lorenzo cacaotepec",
          "sonora/san luis río colorado",
          "méxico/texcoco",
          "chiapas/tonalá",
          "veracruz de ignacio de la llave/xalapa",
          "zacatecas/zacatecas.1",
          "jalisco/zapotlán el grande",
          "guanajuato",
          "méxico",
          "guerrero",
          "puebla",
          "puebla",
          "veracruz de ignacio de la llave",
          "méxico",
          "hidalgo",
          "coahuila de zaragoza",
          "guanajuato",
          "sonora",
          "aguascalientes",
          "sinaloa",
          "san luis potosí",
          "guerrero",
          "méxico",
          "querétaro arteaga",
          "méxico",
          "hidalgo",
          "guanajuato",
          "guanajuato",
          "michoacán de ocampo",
          "tlaxcala",
          "nuevo león",
          "jalisco",
          "guerrero",
          "méxico",
          "méxico",
          "puebla",
          "guerrero",
          "jalisco",
          "morelos",
          "ciudad de méxico",
          "nayarit",
          "ciudad de méxico",
          "quintana roo",
          "veracruz de ignacio de la llave",
          "sonora",
          "querétaro arteaga",
          "nuevo león",
          "sonora",
          "méxico",
          "tlaxcala",
          "tamaulipas",
          "veracruz de ignacio de la llave",
          "campeche",
          "méxico",
          "campeche",
          "guanajuato",
          "tabasco",
          "san luis potosí",
          "méxico",
          "jalisco",
          "tlaxcala",
          "méxico",
          "méxico",
          "chihuahua",
          "guerrero",
          "guerrero",
          "méxico",
          "oaxaca",
          "san luis potosí",
          "méxico",
          "méxico",
          "veracruz de ignacio de la llave",
          "colima",
          "tabasco",
          "chiapas",
          "querétaro arteaga",
          "guanajuato",
          "ciudad de méxico",
          "quintana roo",
          "ciudad de méxico",
          "chihuahua",
          "ciudad de méxico",
          "méxico",
          "méxico",
          "morelos",
          "morelos",
          "veracruz de ignacio de la llave",
          "sinaloa",
          "tabasco",
          "tabasco",
          "veracruz de ignacio de la llave",
          "chihuahua",
          "guanajuato",
          "durango",
          "méxico",
          "méxico",
          "tabasco",
          "jalisco",
          "baja california",
          "sinaloa",
          "querétaro arteaga",
          "zacatecas",
          "jalisco",
          "nuevo león",
          "zacatecas",
          "guanajuato",
          "sinaloa",
          "ciudad de méxico",
          "sonora",
          "oaxaca",
          "oaxaca",
          "oaxaca",
          "michoacán de ocampo",
          "tlaxcala",
          "guanajuato",
          "sonora",
          "veracruz de ignacio de la llave",
          "puebla",
          "puebla",
          "hidalgo",
          "michoacán de ocampo",
          "hidalgo",
          "méxico",
          "guerrero",
          "guanajuato",
          "veracruz de ignacio de la llave",
          "hidalgo",
          "méxico",
          "méxico",
          "méxico",
          "nayarit",
          "ciudad de méxico",
          "ciudad de méxico",
          "puebla",
          "jalisco",
          "querétaro arteaga",
          "zacatecas",
          "méxico",
          "michoacán de ocampo",
          "michoacán de ocampo",
          "méxico",
          "morelos",
          "jalisco",
          "morelos",
          "guerrero",
          "chihuahua",
          "ciudad de méxico",
          "baja california sur",
          "méxico",
          "michoacán de ocampo",
          "jalisco",
          "veracruz de ignacio de la llave",
          "méxico",
          "guanajuato",
          "nuevo león",
          "oaxaca",
          "baja california sur",
          "michoacán de ocampo",
          "michoacán de ocampo",
          "tabasco",
          "chihuahua",
          "sonora",
          "guanajuato",
          "colima",
          "michoacán de ocampo",
          "veracruz de ignacio de la llave",
          "tamaulipas",
          "san luis potosí",
          "oaxaca",
          "sinaloa",
          "méxico",
          "méxico",
          "baja california",
          "tamaulipas",
          "ciudad de méxico",
          "ciudad de méxico",
          "veracruz de ignacio de la llave",
          "hidalgo",
          "coahuila de zaragoza",
          "nuevo león",
          "nuevo león",
          "michoacán de ocampo",
          "guanajuato",
          "yucatán",
          "veracruz de ignacio de la llave",
          "méxico",
          "sonora",
          "méxico",
          "méxico",
          "sonora",
          "chihuahua",
          "tamaulipas",
          "oaxaca",
          "jalisco",
          "zacatecas",
          "guerrero",
          "veracruz de ignacio de la llave",
          "quintana roo",
          "aguascalientes",
          "baja california",
          "guanajuato",
          "guerrero",
          "jalisco",
          "méxico",
          "michoacán de ocampo",
          "nayarit",
          "nuevo león",
          "oaxaca",
          "baja california sur",
          "puebla",
          "querétaro arteaga",
          "quintana roo",
          "san luis potosí",
          "sinaloa",
          "sonora",
          "tabasco",
          "tamaulipas",
          "tlaxcala",
          "veracruz de ignacio de la llave",
          "campeche",
          "yucatán",
          "zacatecas",
          "coahuila de zaragoza",
          "colima",
          "chiapas",
          "chihuahua",
          "ciudad de méxico",
          "durango",
          "méxico",
          "méxico",
          "hidalgo",
          "chiapas",
          "veracruz de ignacio de la llave",
          "tabasco",
          "veracruz de ignacio de la llave",
          "coahuila de zaragoza",
          "chiapas",
          "baja california",
          "veracruz de ignacio de la llave",
          "hidalgo",
          "puebla",
          "guanajuato",
          "morelos",
          "sonora",
          "jalisco",
          "guerrero",
          "michoacán de ocampo",
          "michoacán de ocampo",
          "oaxaca",
          "michoacán de ocampo",
          "guanajuato",
          "querétaro arteaga",
          "michoacán de ocampo",
          "tamaulipas",
          "san luis potosí",
          "tamaulipas",
          "zacatecas",
          "coahuila de zaragoza",
          "michoacán de ocampo",
          "guanajuato",
          "oaxaca",
          "coahuila de zaragoza",
          "sinaloa",
          "guanajuato",
          "veracruz de ignacio de la llave",
          "chiapas",
          "guanajuato",
          "méxico",
          "guanajuato",
          "guanajuato",
          "oaxaca",
          "jalisco",
          "querétaro arteaga",
          "oaxaca",
          "guanajuato",
          "san luis potosí",
          "sonora",
          "puebla",
          "méxico",
          "guanajuato",
          "nuevo león",
          "puebla",
          "nuevo león",
          "oaxaca",
          "jalisco",
          "guanajuato",
          "oaxaca",
          "durango",
          "oaxaca",
          "veracruz de ignacio de la llave",
          "oaxaca",
          "guanajuato",
          "quintana roo",
          "michoacán de ocampo",
          "tamaulipas",
          "chiapas",
          "guanajuato",
          "guerrero",
          "puebla",
          "baja california",
          "colima",
          "méxico",
          "puebla",
          "méxico",
          "guerrero",
          "méxico",
          "morelos",
          "méxico",
          "méxico",
          "jalisco",
          "méxico",
          "méxico",
          "jalisco",
          "puebla",
          "hidalgo",
          "hidalgo",
          "méxico",
          "nayarit",
          "querétaro arteaga",
          "méxico",
          "puebla",
          "hidalgo",
          "méxico",
          "veracruz de ignacio de la llave",
          "baja california",
          "hidalgo",
          "yucatán",
          "oaxaca",
          "jalisco",
          "méxico",
          "ciudad de méxico",
          "zacatecas",
          "guerrero",
          "guerrero",
          "tlaxcala",
          "hidalgo",
          "ciudad de méxico",
          "méxico",
          "chiapas",
          "jalisco",
          "coahuila de zaragoza",
          "hidalgo",
          "hidalgo",
          "méxico",
          "veracruz de ignacio de la llave",
          "chiapas",
          "guerrero",
          "guanajuato",
          "michoacán de ocampo",
          "yucatán",
          "méxico",
          "méxico",
          "guanajuato",
          "tamaulipas",
          "ciudad de méxico",
          "veracruz de ignacio de la llave",
          "tamaulipas",
          "méxico",
          "chiapas",
          "guanajuato",
          "veracruz de ignacio de la llave",
          "tlaxcala",
          "puebla",
          "ciudad de méxico",
          "morelos",
          "méxico",
          "morelos",
          "guanajuato",
          "michoacán de ocampo",
          "zacatecas",
          "tlaxcala",
          "michoacán de ocampo",
          "jalisco",
          "jalisco",
          "guerrero",
          "hidalgo",
          "oaxaca",
          "méxico",
          "michoacán de ocampo",
          "michoacán de ocampo",
          "méxico",
          "veracruz de ignacio de la llave",
          "ciudad de méxico",
          "",
          "",
          "",
          "",
          "",
          "",
          "",
          "",
          "",
          "",
          "",
          "",
          "",
          "",
          "",
          "",
          "",
          "",
          "",
          "",
          "",
          "",
          "",
          "",
          "",
          "",
          "",
          "",
          "",
          "",
          "",
          ""
         ],
         "textposition": "middle center",
         "texttemplate": "<b>%{label}</b><br>Casos: %{value:,}",
         "type": "treemap",
         "values": [
          0,
          0,
          0,
          0,
          1504,
          0,
          0,
          0,
          0,
          0,
          0,
          0,
          0,
          0,
          0,
          0,
          0,
          0,
          0,
          0,
          0,
          0,
          0,
          0,
          0,
          0,
          0,
          0,
          0,
          0,
          0,
          0,
          0,
          0,
          0,
          0,
          0,
          0,
          459,
          0,
          0,
          0,
          0,
          0,
          2249,
          0,
          1757,
          3088,
          0,
          0,
          0,
          0,
          0,
          0,
          0,
          0,
          0,
          0,
          0,
          0,
          0,
          0,
          0,
          0,
          0,
          0,
          0,
          0,
          529,
          0,
          0,
          0,
          0,
          0,
          0,
          0,
          378,
          2369,
          4113,
          1670,
          2252,
          1524,
          528,
          97931,
          18474,
          871,
          1184,
          581,
          3255,
          451,
          1220,
          1199,
          5441,
          11570,
          1408,
          2214,
          5774,
          1393,
          1360,
          4904,
          1370,
          2180,
          37920,
          9913,
          5386,
          615,
          333,
          964,
          411,
          4331,
          1342,
          1656,
          483,
          4277,
          1106,
          396,
          10878,
          6952,
          917,
          572,
          10628,
          261,
          586,
          3864,
          4551,
          10785,
          17865,
          7811,
          764,
          10000,
          1356,
          1524,
          3683,
          4712,
          182,
          2096,
          834,
          1412,
          4913,
          3054,
          1352,
          428,
          333,
          609,
          13263,
          1557,
          141,
          668,
          1653,
          1514,
          859,
          2169,
          673,
          251,
          3434,
          728,
          719,
          3330,
          350,
          1021,
          1205,
          381,
          12774,
          343,
          1472,
          863,
          4080,
          251,
          4043,
          1124,
          479,
          2440,
          3488,
          218,
          871,
          28,
          3079,
          495,
          228,
          502,
          420,
          223,
          160,
          145,
          2187,
          918,
          1333,
          11,
          897,
          15414,
          1160,
          2181,
          4724,
          943,
          1793,
          7452,
          1330,
          933,
          11942,
          4175,
          2207,
          4333,
          22972,
          20192,
          17173,
          18482,
          36685,
          2437,
          6985,
          524,
          453,
          521,
          585,
          1211,
          1389,
          131,
          211,
          452,
          491,
          544,
          2514,
          1213,
          2711,
          2552,
          605,
          908,
          2458,
          953,
          438,
          404,
          1878,
          1885,
          325,
          655,
          1045,
          2152,
          4642,
          1134,
          5317,
          4837,
          217,
          1549,
          4600,
          1190,
          1223,
          8125,
          9288,
          571,
          1128,
          902,
          1218,
          482,
          973,
          536,
          4296,
          1647,
          360,
          292,
          1026,
          764,
          477,
          315,
          5637,
          457,
          2137,
          1137,
          42048,
          1315,
          5214,
          1087,
          1831,
          827,
          269,
          3091,
          4477,
          5302,
          5138,
          1691,
          1508,
          891,
          590,
          1516,
          3449,
          123,
          1623,
          1827,
          304,
          370,
          451,
          149,
          405,
          328,
          548,
          1943,
          7948,
          1037,
          1151,
          2520,
          3185,
          10023,
          419,
          679,
          2742,
          522,
          15682,
          2646,
          422,
          8236,
          6183,
          312,
          1234,
          6368,
          596,
          3329,
          214,
          385,
          2140,
          1075,
          1848,
          1730,
          374,
          370,
          1227,
          573,
          403,
          443,
          1114,
          840,
          4230,
          483,
          9438,
          1011,
          3597,
          3536,
          1793,
          1824,
          841,
          484,
          383,
          488,
          277,
          847,
          752,
          156,
          1121,
          1124,
          841,
          7535,
          206,
          615,
          397,
          582,
          7130,
          11290,
          4310,
          1495,
          3130,
          511,
          624,
          1656,
          354,
          2256,
          3176,
          530,
          1542,
          533,
          2423,
          245,
          2797,
          120,
          1209,
          8608,
          47,
          3484,
          416,
          1061,
          524,
          0,
          4175,
          453,
          521,
          871,
          585,
          1211,
          1389,
          1184,
          581,
          11290,
          3255,
          0,
          0,
          131,
          211,
          0,
          452,
          491,
          451,
          544,
          1220,
          2514,
          1213,
          1504,
          2711,
          2552,
          605,
          223,
          0,
          0,
          1199,
          1124,
          15414,
          4310,
          2207,
          1160,
          0,
          908,
          2458,
          0,
          0,
          160,
          0,
          2181,
          953,
          1495,
          5441,
          4724,
          145,
          3130,
          511,
          0,
          438,
          404,
          11570,
          0,
          1408,
          1878,
          0,
          1885,
          2187,
          325,
          655,
          2214,
          1045,
          2152,
          4642,
          1134,
          7130,
          624,
          5774,
          1656,
          97931,
          1393,
          5317,
          1360,
          18474,
          0,
          4837,
          217,
          1549,
          4600,
          1190,
          1223,
          4904,
          8125,
          0,
          0,
          0,
          1370,
          378,
          0,
          2180,
          37920,
          9288,
          2369,
          0,
          502,
          9913,
          5386,
          615,
          571,
          0,
          1128,
          902,
          0,
          0,
          0,
          333,
          1218,
          964,
          482,
          411,
          4331,
          1342,
          4113,
          0,
          973,
          1656,
          483,
          536,
          0,
          4277,
          4296,
          1647,
          354,
          0,
          1106,
          0,
          0,
          0,
          360,
          0,
          0,
          396,
          918,
          10878,
          6952,
          943,
          917,
          1793,
          572,
          292,
          0,
          10628,
          0,
          0,
          1026,
          764,
          0,
          0,
          0,
          261,
          459,
          586,
          477,
          841,
          3864,
          0,
          315,
          5637,
          0,
          4551,
          10785,
          0,
          17865,
          0,
          1333,
          457,
          2137,
          1137,
          42048,
          7452,
          1315,
          7811,
          764,
          10000,
          0,
          5214,
          7535,
          1356,
          1524,
          3683,
          4712,
          2256,
          182,
          1087,
          4333,
          1831,
          827,
          269,
          3091,
          2249,
          4477,
          5302,
          3176,
          2096,
          5138,
          1691,
          0,
          1757,
          1508,
          530,
          891,
          11,
          1542,
          834,
          590,
          1516,
          3449,
          123,
          533,
          1412,
          1623,
          1330,
          1827,
          3088,
          304,
          1670,
          370,
          451,
          4913,
          0,
          0,
          149,
          0,
          2423,
          405,
          2437,
          3054,
          328,
          22972,
          0,
          206,
          245,
          2797,
          1352,
          428,
          548,
          333,
          609,
          1943,
          13263,
          0,
          7948,
          1557,
          1037,
          0,
          1151,
          2520,
          3185,
          141,
          10023,
          419,
          668,
          0,
          1653,
          679,
          2742,
          1514,
          522,
          859,
          2252,
          2169,
          120,
          673,
          15682,
          1209,
          2646,
          251,
          0,
          3434,
          422,
          8236,
          897,
          6183,
          0,
          0,
          0,
          728,
          312,
          0,
          719,
          1234,
          0,
          6368,
          3330,
          596,
          0,
          3329,
          214,
          933,
          385,
          2140,
          615,
          350,
          1075,
          0,
          1848,
          1730,
          0,
          374,
          370,
          11942,
          1227,
          573,
          403,
          0,
          0,
          1021,
          8608,
          1205,
          443,
          1114,
          381,
          20192,
          840,
          397,
          0,
          1524,
          4230,
          12774,
          343,
          420,
          0,
          1472,
          483,
          17173,
          9438,
          47,
          1011,
          18482,
          528,
          3597,
          3536,
          863,
          4080,
          529,
          251,
          4043,
          0,
          0,
          1793,
          1124,
          479,
          2440,
          3488,
          1824,
          0,
          841,
          0,
          3484,
          484,
          383,
          488,
          218,
          871,
          28,
          277,
          847,
          416,
          752,
          3079,
          36685,
          1061,
          156,
          0,
          495,
          0,
          228,
          1121,
          582,
          0,
          6985,
          12117,
          35267,
          1969,
          3799,
          14335,
          29906,
          210915,
          37228,
          5063,
          6574,
          42205,
          15713,
          16576,
          110758,
          29239,
          20682,
          111397,
          3220,
          72703,
          11477,
          40858,
          22814,
          8529,
          20160,
          15039,
          14198,
          8518,
          25953,
          6346,
          30927,
          8741,
          8008
         ]
        }
       ],
       "layout": {
        "annotations": [
         {
          "align": "left",
          "bgcolor": "white",
          "bordercolor": "black",
          "borderwidth": 1,
          "font": {
           "size": 10
          },
          "opacity": 0.8,
          "showarrow": false,
          "text": "Estadísticas de Salud en Establecimientos Particulares, INEGI, 2024",
          "x": 0.01,
          "xref": "paper",
          "y": -0.15,
          "yref": "paper"
         }
        ],
        "legend": {
         "tracegroupgap": 0
        },
        "margin": {
         "b": 70,
         "l": 10,
         "r": 10,
         "t": 50
        },
        "template": {
         "data": {
          "bar": [
           {
            "error_x": {
             "color": "#2a3f5f"
            },
            "error_y": {
             "color": "#2a3f5f"
            },
            "marker": {
             "line": {
              "color": "#E5ECF6",
              "width": 0.5
             },
             "pattern": {
              "fillmode": "overlay",
              "size": 10,
              "solidity": 0.2
             }
            },
            "type": "bar"
           }
          ],
          "barpolar": [
           {
            "marker": {
             "line": {
              "color": "#E5ECF6",
              "width": 0.5
             },
             "pattern": {
              "fillmode": "overlay",
              "size": 10,
              "solidity": 0.2
             }
            },
            "type": "barpolar"
           }
          ],
          "carpet": [
           {
            "aaxis": {
             "endlinecolor": "#2a3f5f",
             "gridcolor": "white",
             "linecolor": "white",
             "minorgridcolor": "white",
             "startlinecolor": "#2a3f5f"
            },
            "baxis": {
             "endlinecolor": "#2a3f5f",
             "gridcolor": "white",
             "linecolor": "white",
             "minorgridcolor": "white",
             "startlinecolor": "#2a3f5f"
            },
            "type": "carpet"
           }
          ],
          "choropleth": [
           {
            "colorbar": {
             "outlinewidth": 0,
             "ticks": ""
            },
            "type": "choropleth"
           }
          ],
          "contour": [
           {
            "colorbar": {
             "outlinewidth": 0,
             "ticks": ""
            },
            "colorscale": [
             [
              0,
              "#0d0887"
             ],
             [
              0.1111111111111111,
              "#46039f"
             ],
             [
              0.2222222222222222,
              "#7201a8"
             ],
             [
              0.3333333333333333,
              "#9c179e"
             ],
             [
              0.4444444444444444,
              "#bd3786"
             ],
             [
              0.5555555555555556,
              "#d8576b"
             ],
             [
              0.6666666666666666,
              "#ed7953"
             ],
             [
              0.7777777777777778,
              "#fb9f3a"
             ],
             [
              0.8888888888888888,
              "#fdca26"
             ],
             [
              1,
              "#f0f921"
             ]
            ],
            "type": "contour"
           }
          ],
          "contourcarpet": [
           {
            "colorbar": {
             "outlinewidth": 0,
             "ticks": ""
            },
            "type": "contourcarpet"
           }
          ],
          "heatmap": [
           {
            "colorbar": {
             "outlinewidth": 0,
             "ticks": ""
            },
            "colorscale": [
             [
              0,
              "#0d0887"
             ],
             [
              0.1111111111111111,
              "#46039f"
             ],
             [
              0.2222222222222222,
              "#7201a8"
             ],
             [
              0.3333333333333333,
              "#9c179e"
             ],
             [
              0.4444444444444444,
              "#bd3786"
             ],
             [
              0.5555555555555556,
              "#d8576b"
             ],
             [
              0.6666666666666666,
              "#ed7953"
             ],
             [
              0.7777777777777778,
              "#fb9f3a"
             ],
             [
              0.8888888888888888,
              "#fdca26"
             ],
             [
              1,
              "#f0f921"
             ]
            ],
            "type": "heatmap"
           }
          ],
          "heatmapgl": [
           {
            "colorbar": {
             "outlinewidth": 0,
             "ticks": ""
            },
            "colorscale": [
             [
              0,
              "#0d0887"
             ],
             [
              0.1111111111111111,
              "#46039f"
             ],
             [
              0.2222222222222222,
              "#7201a8"
             ],
             [
              0.3333333333333333,
              "#9c179e"
             ],
             [
              0.4444444444444444,
              "#bd3786"
             ],
             [
              0.5555555555555556,
              "#d8576b"
             ],
             [
              0.6666666666666666,
              "#ed7953"
             ],
             [
              0.7777777777777778,
              "#fb9f3a"
             ],
             [
              0.8888888888888888,
              "#fdca26"
             ],
             [
              1,
              "#f0f921"
             ]
            ],
            "type": "heatmapgl"
           }
          ],
          "histogram": [
           {
            "marker": {
             "pattern": {
              "fillmode": "overlay",
              "size": 10,
              "solidity": 0.2
             }
            },
            "type": "histogram"
           }
          ],
          "histogram2d": [
           {
            "colorbar": {
             "outlinewidth": 0,
             "ticks": ""
            },
            "colorscale": [
             [
              0,
              "#0d0887"
             ],
             [
              0.1111111111111111,
              "#46039f"
             ],
             [
              0.2222222222222222,
              "#7201a8"
             ],
             [
              0.3333333333333333,
              "#9c179e"
             ],
             [
              0.4444444444444444,
              "#bd3786"
             ],
             [
              0.5555555555555556,
              "#d8576b"
             ],
             [
              0.6666666666666666,
              "#ed7953"
             ],
             [
              0.7777777777777778,
              "#fb9f3a"
             ],
             [
              0.8888888888888888,
              "#fdca26"
             ],
             [
              1,
              "#f0f921"
             ]
            ],
            "type": "histogram2d"
           }
          ],
          "histogram2dcontour": [
           {
            "colorbar": {
             "outlinewidth": 0,
             "ticks": ""
            },
            "colorscale": [
             [
              0,
              "#0d0887"
             ],
             [
              0.1111111111111111,
              "#46039f"
             ],
             [
              0.2222222222222222,
              "#7201a8"
             ],
             [
              0.3333333333333333,
              "#9c179e"
             ],
             [
              0.4444444444444444,
              "#bd3786"
             ],
             [
              0.5555555555555556,
              "#d8576b"
             ],
             [
              0.6666666666666666,
              "#ed7953"
             ],
             [
              0.7777777777777778,
              "#fb9f3a"
             ],
             [
              0.8888888888888888,
              "#fdca26"
             ],
             [
              1,
              "#f0f921"
             ]
            ],
            "type": "histogram2dcontour"
           }
          ],
          "mesh3d": [
           {
            "colorbar": {
             "outlinewidth": 0,
             "ticks": ""
            },
            "type": "mesh3d"
           }
          ],
          "parcoords": [
           {
            "line": {
             "colorbar": {
              "outlinewidth": 0,
              "ticks": ""
             }
            },
            "type": "parcoords"
           }
          ],
          "pie": [
           {
            "automargin": true,
            "type": "pie"
           }
          ],
          "scatter": [
           {
            "fillpattern": {
             "fillmode": "overlay",
             "size": 10,
             "solidity": 0.2
            },
            "type": "scatter"
           }
          ],
          "scatter3d": [
           {
            "line": {
             "colorbar": {
              "outlinewidth": 0,
              "ticks": ""
             }
            },
            "marker": {
             "colorbar": {
              "outlinewidth": 0,
              "ticks": ""
             }
            },
            "type": "scatter3d"
           }
          ],
          "scattercarpet": [
           {
            "marker": {
             "colorbar": {
              "outlinewidth": 0,
              "ticks": ""
             }
            },
            "type": "scattercarpet"
           }
          ],
          "scattergeo": [
           {
            "marker": {
             "colorbar": {
              "outlinewidth": 0,
              "ticks": ""
             }
            },
            "type": "scattergeo"
           }
          ],
          "scattergl": [
           {
            "marker": {
             "colorbar": {
              "outlinewidth": 0,
              "ticks": ""
             }
            },
            "type": "scattergl"
           }
          ],
          "scattermapbox": [
           {
            "marker": {
             "colorbar": {
              "outlinewidth": 0,
              "ticks": ""
             }
            },
            "type": "scattermapbox"
           }
          ],
          "scatterpolar": [
           {
            "marker": {
             "colorbar": {
              "outlinewidth": 0,
              "ticks": ""
             }
            },
            "type": "scatterpolar"
           }
          ],
          "scatterpolargl": [
           {
            "marker": {
             "colorbar": {
              "outlinewidth": 0,
              "ticks": ""
             }
            },
            "type": "scatterpolargl"
           }
          ],
          "scatterternary": [
           {
            "marker": {
             "colorbar": {
              "outlinewidth": 0,
              "ticks": ""
             }
            },
            "type": "scatterternary"
           }
          ],
          "surface": [
           {
            "colorbar": {
             "outlinewidth": 0,
             "ticks": ""
            },
            "colorscale": [
             [
              0,
              "#0d0887"
             ],
             [
              0.1111111111111111,
              "#46039f"
             ],
             [
              0.2222222222222222,
              "#7201a8"
             ],
             [
              0.3333333333333333,
              "#9c179e"
             ],
             [
              0.4444444444444444,
              "#bd3786"
             ],
             [
              0.5555555555555556,
              "#d8576b"
             ],
             [
              0.6666666666666666,
              "#ed7953"
             ],
             [
              0.7777777777777778,
              "#fb9f3a"
             ],
             [
              0.8888888888888888,
              "#fdca26"
             ],
             [
              1,
              "#f0f921"
             ]
            ],
            "type": "surface"
           }
          ],
          "table": [
           {
            "cells": {
             "fill": {
              "color": "#EBF0F8"
             },
             "line": {
              "color": "white"
             }
            },
            "header": {
             "fill": {
              "color": "#C8D4E3"
             },
             "line": {
              "color": "white"
             }
            },
            "type": "table"
           }
          ]
         },
         "layout": {
          "annotationdefaults": {
           "arrowcolor": "#2a3f5f",
           "arrowhead": 0,
           "arrowwidth": 1
          },
          "autotypenumbers": "strict",
          "coloraxis": {
           "colorbar": {
            "outlinewidth": 0,
            "ticks": ""
           }
          },
          "colorscale": {
           "diverging": [
            [
             0,
             "#8e0152"
            ],
            [
             0.1,
             "#c51b7d"
            ],
            [
             0.2,
             "#de77ae"
            ],
            [
             0.3,
             "#f1b6da"
            ],
            [
             0.4,
             "#fde0ef"
            ],
            [
             0.5,
             "#f7f7f7"
            ],
            [
             0.6,
             "#e6f5d0"
            ],
            [
             0.7,
             "#b8e186"
            ],
            [
             0.8,
             "#7fbc41"
            ],
            [
             0.9,
             "#4d9221"
            ],
            [
             1,
             "#276419"
            ]
           ],
           "sequential": [
            [
             0,
             "#0d0887"
            ],
            [
             0.1111111111111111,
             "#46039f"
            ],
            [
             0.2222222222222222,
             "#7201a8"
            ],
            [
             0.3333333333333333,
             "#9c179e"
            ],
            [
             0.4444444444444444,
             "#bd3786"
            ],
            [
             0.5555555555555556,
             "#d8576b"
            ],
            [
             0.6666666666666666,
             "#ed7953"
            ],
            [
             0.7777777777777778,
             "#fb9f3a"
            ],
            [
             0.8888888888888888,
             "#fdca26"
            ],
            [
             1,
             "#f0f921"
            ]
           ],
           "sequentialminus": [
            [
             0,
             "#0d0887"
            ],
            [
             0.1111111111111111,
             "#46039f"
            ],
            [
             0.2222222222222222,
             "#7201a8"
            ],
            [
             0.3333333333333333,
             "#9c179e"
            ],
            [
             0.4444444444444444,
             "#bd3786"
            ],
            [
             0.5555555555555556,
             "#d8576b"
            ],
            [
             0.6666666666666666,
             "#ed7953"
            ],
            [
             0.7777777777777778,
             "#fb9f3a"
            ],
            [
             0.8888888888888888,
             "#fdca26"
            ],
            [
             1,
             "#f0f921"
            ]
           ]
          },
          "colorway": [
           "#636efa",
           "#EF553B",
           "#00cc96",
           "#ab63fa",
           "#FFA15A",
           "#19d3f3",
           "#FF6692",
           "#B6E880",
           "#FF97FF",
           "#FECB52"
          ],
          "font": {
           "color": "#2a3f5f"
          },
          "geo": {
           "bgcolor": "white",
           "lakecolor": "white",
           "landcolor": "#E5ECF6",
           "showlakes": true,
           "showland": true,
           "subunitcolor": "white"
          },
          "hoverlabel": {
           "align": "left"
          },
          "hovermode": "closest",
          "mapbox": {
           "style": "light"
          },
          "paper_bgcolor": "white",
          "plot_bgcolor": "#E5ECF6",
          "polar": {
           "angularaxis": {
            "gridcolor": "white",
            "linecolor": "white",
            "ticks": ""
           },
           "bgcolor": "#E5ECF6",
           "radialaxis": {
            "gridcolor": "white",
            "linecolor": "white",
            "ticks": ""
           }
          },
          "scene": {
           "xaxis": {
            "backgroundcolor": "#E5ECF6",
            "gridcolor": "white",
            "gridwidth": 2,
            "linecolor": "white",
            "showbackground": true,
            "ticks": "",
            "zerolinecolor": "white"
           },
           "yaxis": {
            "backgroundcolor": "#E5ECF6",
            "gridcolor": "white",
            "gridwidth": 2,
            "linecolor": "white",
            "showbackground": true,
            "ticks": "",
            "zerolinecolor": "white"
           },
           "zaxis": {
            "backgroundcolor": "#E5ECF6",
            "gridcolor": "white",
            "gridwidth": 2,
            "linecolor": "white",
            "showbackground": true,
            "ticks": "",
            "zerolinecolor": "white"
           }
          },
          "shapedefaults": {
           "line": {
            "color": "#2a3f5f"
           }
          },
          "ternary": {
           "aaxis": {
            "gridcolor": "white",
            "linecolor": "white",
            "ticks": ""
           },
           "baxis": {
            "gridcolor": "white",
            "linecolor": "white",
            "ticks": ""
           },
           "bgcolor": "#E5ECF6",
           "caxis": {
            "gridcolor": "white",
            "linecolor": "white",
            "ticks": ""
           }
          },
          "title": {
           "x": 0.05
          },
          "xaxis": {
           "automargin": true,
           "gridcolor": "white",
           "linecolor": "white",
           "ticks": "",
           "title": {
            "standoff": 15
           },
           "zerolinecolor": "white",
           "zerolinewidth": 2
          },
          "yaxis": {
           "automargin": true,
           "gridcolor": "white",
           "linecolor": "white",
           "ticks": "",
           "title": {
            "standoff": 15
           },
           "zerolinecolor": "white",
           "zerolinewidth": 2
          }
         }
        },
        "title": {
         "text": "Jerarquía de casos por enfermedad"
        },
        "uniformtext": {
         "minsize": 10,
         "mode": "hide"
        }
       }
      }
     },
     "metadata": {},
     "output_type": "display_data"
    }
   ],
   "source": [
    "#Gráfica jeráquica \n",
    "fig_treemap = px.treemap(enfermedades_estados, path = [\"entidad\", \"mun\", \"enfermedades\"], values = \"casos\", title = \"Jerarquía de casos por enfermedad\", custom_data=['casos'])\n",
    "\n",
    "fig_treemap.update_traces(\n",
    "    hovertemplate='<b>%{label}</b><br>Casos: %{customdata[0]:,}<extra></extra>',\n",
    "    texttemplate='<b>%{label}</b><br>%{customdata[0]:,}',\n",
    "    textposition=\"middle center\"\n",
    "    \n",
    ")\n",
    "\n",
    "fig_treemap.update_traces(\n",
    "    texttemplate='<b>%{label}</b><br>Casos: %{value:,}',\n",
    "    textposition=\"middle center\"\n",
    "    \n",
    ")\n",
    "\n",
    "fig_treemap.update_layout(\n",
    "    uniformtext=dict(minsize=10, mode='hide')  \n",
    ")\n",
    "\n",
    "fuente = \"Estadísticas de Salud en Establecimientos Particulares, INEGI, 2024\"\n",
    "\n",
    "fig_treemap.add_annotation(\n",
    "    xref=\"paper\", yref=\"paper\",\n",
    "    x=0.01, y=-0.15,  \n",
    "    text=fuente,\n",
    "    showarrow=False,\n",
    "    font=dict(size=10),\n",
    "    align=\"left\",\n",
    "    bordercolor=\"black\",\n",
    "    borderwidth=1,\n",
    "    bgcolor=\"white\",\n",
    "    opacity=0.8\n",
    ")\n",
    "\n",
    "fig_treemap.update_layout(\n",
    "    margin=dict(t=50, l=10, r=10, b=70)  \n",
    ")\n",
    "\n",
    "\n",
    "from IPython.display import display\n",
    "display(fig_treemap)\n",
    "\n"
   ]
  },
  {
   "cell_type": "code",
   "execution_count": null,
   "metadata": {},
   "outputs": [],
   "source": []
  }
 ],
 "metadata": {
  "kernelspec": {
   "display_name": "dataton",
   "language": "python",
   "name": "python3"
  },
  "language_info": {
   "codemirror_mode": {
    "name": "ipython",
    "version": 3
   },
   "file_extension": ".py",
   "mimetype": "text/x-python",
   "name": "python",
   "nbconvert_exporter": "python",
   "pygments_lexer": "ipython3",
   "version": "3.12.5"
  }
 },
 "nbformat": 4,
 "nbformat_minor": 2
}
